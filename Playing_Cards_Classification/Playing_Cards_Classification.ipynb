{
  "nbformat": 4,
  "nbformat_minor": 0,
  "metadata": {
    "colab": {
      "provenance": [],
      "gpuType": "T4"
    },
    "kernelspec": {
      "name": "python3",
      "display_name": "Python 3"
    },
    "language_info": {
      "name": "python"
    },
    "accelerator": "GPU"
  },
  "cells": [
    {
      "cell_type": "code",
      "execution_count": null,
      "metadata": {
        "id": "CRf7rCoZO_F4"
      },
      "outputs": [],
      "source": [
        "import torch\n",
        "import torch.nn as nn\n",
        "import torch.optim as optim\n",
        "from torch.utils.data import Dataset, DataLoader\n",
        "import torchvision\n",
        "import torchvision.transforms as transforms\n",
        "from torchvision.datasets import ImageFolder\n",
        "\n",
        "import matplotlib.pyplot as plt\n",
        "import pandas as pd\n",
        "import numpy as np\n",
        "import sys\n",
        "from tqdm.notebook import tqdm"
      ]
    },
    {
      "cell_type": "code",
      "source": [
        "class PlayingCardDataset(Dataset):\n",
        "  def __init__(self, data_dir, transform=None):\n",
        "    self.data= ImageFolder(data_dir, transform=transform)\n",
        "\n",
        "  def __len__(self):\n",
        "    return len(self.data)\n",
        "\n",
        "  def __getitem__(self, idx):\n",
        "    return self.data[idx]\n",
        "\n",
        "  @property\n",
        "  def classes(self):\n",
        "    return self.data.classes"
      ],
      "metadata": {
        "id": "nMXrZaorRWb3"
      },
      "execution_count": null,
      "outputs": []
    },
    {
      "cell_type": "code",
      "source": [
        "import kagglehub\n",
        "\n",
        "# Download latest version\n",
        "path = kagglehub.dataset_download(\"gpiosenka/cards-image-datasetclassification\")\n",
        "\n",
        "print(\"Path to dataset files:\", path)"
      ],
      "metadata": {
        "id": "fPvkoHzDSj37"
      },
      "execution_count": null,
      "outputs": []
    },
    {
      "cell_type": "code",
      "source": [
        "dataset = PlayingCardDataset(data_dir='/kaggle/input/cards-image-datasetclassification/train')"
      ],
      "metadata": {
        "id": "xqTRPqY8S2Cp"
      },
      "execution_count": null,
      "outputs": []
    },
    {
      "cell_type": "code",
      "source": [
        "len(dataset)"
      ],
      "metadata": {
        "id": "Fp31unAOS8Uz"
      },
      "execution_count": null,
      "outputs": []
    },
    {
      "cell_type": "code",
      "source": [
        "target_to_class = {v: k for k, v in ImageFolder('/kaggle/input/cards-image-datasetclassification/train').class_to_idx.items()}"
      ],
      "metadata": {
        "id": "Ata9RwgSTDrH"
      },
      "execution_count": null,
      "outputs": []
    },
    {
      "cell_type": "code",
      "source": [
        "target_to_class"
      ],
      "metadata": {
        "id": "8EzXc6N6TKDI"
      },
      "execution_count": null,
      "outputs": []
    },
    {
      "cell_type": "code",
      "source": [
        "# Transforming the dataset\n",
        "transform= transforms.Compose([transforms.Resize((128,128)), transforms.ToTensor(),])"
      ],
      "metadata": {
        "id": "QLyM5WyHULBx"
      },
      "execution_count": null,
      "outputs": []
    },
    {
      "cell_type": "code",
      "source": [
        "data_dir = '/kaggle/input/cards-image-datasetclassification/train'\n",
        "dataset = PlayingCardDataset(data_dir, transform)  #Uploading the transformed dataset"
      ],
      "metadata": {
        "id": "mkljLjUoWcz5"
      },
      "execution_count": null,
      "outputs": []
    },
    {
      "cell_type": "code",
      "source": [
        "# Printing a random card image and the corresponding class that it belongs to\n",
        "image, label = dataset[100]\n",
        "image\n"
      ],
      "metadata": {
        "id": "s2liqPx6VXDg"
      },
      "execution_count": null,
      "outputs": []
    },
    {
      "cell_type": "code",
      "source": [
        "image.shape  #Converted to vector"
      ],
      "metadata": {
        "id": "xvkwssr_WLAE"
      },
      "execution_count": null,
      "outputs": []
    },
    {
      "cell_type": "code",
      "source": [
        "dataloader = DataLoader(dataset, batch_size=32, shuffle=True)"
      ],
      "metadata": {
        "id": "Q-5ktNXQXB4c"
      },
      "execution_count": null,
      "outputs": []
    },
    {
      "cell_type": "code",
      "source": [
        "# To retreive the first batch of data and then loop over it\n",
        "for images, labels in dataloader:\n",
        "    break"
      ],
      "metadata": {
        "id": "IlFrqYx4l8aN"
      },
      "execution_count": null,
      "outputs": []
    },
    {
      "cell_type": "code",
      "source": [
        "images.shape  #32 inputs in one batch"
      ],
      "metadata": {
        "id": "h2pppQmGmT4b"
      },
      "execution_count": null,
      "outputs": []
    },
    {
      "cell_type": "code",
      "source": [
        "class CNN(nn.Module):\n",
        "    def __init__(self, num_classes):\n",
        "        super(CNN, self).__init__()\n",
        "\n",
        "        self.conv1 = nn.Conv2d(in_channels=3, out_channels=16, kernel_size=3, stride=1, padding=1)\n",
        "        self.relu1 = nn.ReLU()\n",
        "        self.pool1 = nn.MaxPool2d(kernel_size=2, stride=2)\n",
        "\n",
        "        self.conv2= nn.Conv2d(in_channels=16, out_channels=32, kernel_size=3, stride=1, padding=1)\n",
        "        self.relu2 = nn.ReLU()\n",
        "        self.pool2= nn.MaxPool2d(kernel_size=2, stride=2)\n",
        "\n",
        "\n",
        "        self.fc1= nn.Linear(32*32*32, num_classes)\n",
        "        self.dropout = nn.Dropout(0.5)\n",
        "\n",
        "\n",
        "\n",
        "    def forward(self, x):\n",
        "        x=self.pool1(self.relu1(self.conv1(x)))\n",
        "        x=self.pool2(self.relu2(self.conv2(x)))\n",
        "        x=x.view(x.size(0), -1)  # Flattening 3D features into 1D vector\n",
        "        x=self.fc1(x)\n",
        "        x= self.dropout(x)\n",
        "        return x"
      ],
      "metadata": {
        "id": "DmIwSpMrmfTy"
      },
      "execution_count": null,
      "outputs": []
    },
    {
      "cell_type": "code",
      "source": [
        "num_classes= len(dataset.classes)\n",
        "print(num_classes)\n",
        "\n",
        "model= CNN(num_classes= num_classes)"
      ],
      "metadata": {
        "id": "9dDiJkBPMiqi"
      },
      "execution_count": null,
      "outputs": []
    },
    {
      "cell_type": "code",
      "source": [
        "cross_entropy_loss = nn.CrossEntropyLoss()\n",
        "optimizer = optim.Adam(model.parameters(), lr=0.001)"
      ],
      "metadata": {
        "id": "A3aNtCgSMHD4"
      },
      "execution_count": null,
      "outputs": []
    },
    {
      "cell_type": "code",
      "source": [
        "model.to(\"cpu\")"
      ],
      "metadata": {
        "id": "iSXU3VdHMS6l"
      },
      "execution_count": null,
      "outputs": []
    },
    {
      "cell_type": "code",
      "source": [
        "num_epochs = 5\n",
        "model.train()\n",
        "\n",
        "for epoch in range(num_epochs):\n",
        "    running_loss = 0.0\n",
        "\n",
        "    for images, labels in tqdm(dataloader, desc=f\"Epoch {epoch+1}/{num_epochs}\"):\n",
        "        images = images.to(\"cpu\")\n",
        "        labels = labels.to(\"cpu\")\n",
        "\n",
        "        optimizer.zero_grad()\n",
        "\n",
        "        outputs = model(images)\n",
        "        loss = cross_entropy_loss(outputs, labels)\n",
        "\n",
        "        loss.backward()\n",
        "        optimizer.step()\n",
        "\n",
        "        running_loss += loss.item()\n",
        "\n",
        "    avg_loss = running_loss / len(dataloader)\n",
        "    print(f\"✅ Epoch {epoch+1}/{num_epochs}, Average Loss: {avg_loss:.4f}\")\n"
      ],
      "metadata": {
        "id": "rJkUdaQJNPFR"
      },
      "execution_count": null,
      "outputs": []
    },
    {
      "cell_type": "code",
      "source": [
        "model.eval()  # Set model to evaluation mode\n",
        "correct = 0\n",
        "total = 0\n",
        "\n",
        "with torch.no_grad():\n",
        "    for images, labels in dataloader:\n",
        "        images = images.to(\"cpu\")\n",
        "        labels = labels.to(\"cpu\")\n",
        "\n",
        "        outputs = model(images)\n",
        "\n",
        "        _, predicted = torch.max(outputs.data, 1)\n",
        "\n",
        "        total += labels.size(0)\n",
        "        correct += (predicted == labels).sum().item()\n",
        "\n",
        "# Calculate accuracy\n",
        "accuracy = 100 * correct / total\n",
        "print(f\"Accuracy on training data: {accuracy:.2f}%\")\n"
      ],
      "metadata": {
        "id": "PQio2PmhOWHZ"
      },
      "execution_count": null,
      "outputs": []
    },
    {
      "cell_type": "code",
      "source": [
        "# Load test set\n",
        "test_data_dir = '/kaggle/input/cards-image-datasetclassification/test'\n",
        "test_dataset = PlayingCardDataset(test_data_dir, transform=transform)\n",
        "test_loader = DataLoader(test_dataset, batch_size=32)\n"
      ],
      "metadata": {
        "id": "O_QHmkRvXhut"
      },
      "execution_count": null,
      "outputs": []
    },
    {
      "cell_type": "code",
      "source": [
        "model.eval()\n",
        "correct = 0\n",
        "total = 0\n",
        "\n",
        "with torch.no_grad():\n",
        "    for images, labels in test_loader:\n",
        "        images, labels = images.to(\"cpu\"), labels.to(\"cpu\")\n",
        "        outputs = model(images)\n",
        "        _, predicted = torch.max(outputs, 1)\n",
        "        total += labels.size(0)\n",
        "        correct += (predicted == labels).sum().item()\n",
        "\n",
        "test_accuracy = correct / total\n",
        "print(f\" Test Accuracy: {test_accuracy:.4f}\")\n"
      ],
      "metadata": {
        "id": "4YWk4kDsZY9c"
      },
      "execution_count": null,
      "outputs": []
    },
    {
      "cell_type": "code",
      "source": [],
      "metadata": {
        "id": "BWHZmcnxZcce"
      },
      "execution_count": null,
      "outputs": []
    }
  ]
}