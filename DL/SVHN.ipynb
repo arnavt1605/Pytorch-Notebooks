{
  "nbformat": 4,
  "nbformat_minor": 0,
  "metadata": {
    "colab": {
      "provenance": [],
      "gpuType": "T4",
      "authorship_tag": "ABX9TyN6odiDauP/udHUlwU7Y80s"
    },
    "kernelspec": {
      "name": "python3",
      "display_name": "Python 3"
    },
    "language_info": {
      "name": "python"
    },
    "accelerator": "GPU"
  },
  "cells": [
    {
      "cell_type": "code",
      "execution_count": 21,
      "metadata": {
        "id": "5vHj9ghvCPxN"
      },
      "outputs": [],
      "source": [
        "import torch\n",
        "import torch.nn as nn\n",
        "import torch.optim\n",
        "import torchvision\n",
        "from torchvision import transforms\n",
        "from torchvision.datasets import SVHN\n",
        "from torch.utils.data import random_split, DataLoader\n",
        "\n",
        "from torchmetrics.classification import Accuracy\n",
        "import torchmetrics"
      ]
    },
    {
      "cell_type": "code",
      "source": [
        "!pip install torchmetrics"
      ],
      "metadata": {
        "colab": {
          "base_uri": "https://localhost:8080/"
        },
        "id": "QZ2wulZRwAh_",
        "outputId": "e70b3780-a7db-4724-bf4f-c0b7f2820c26"
      },
      "execution_count": 22,
      "outputs": [
        {
          "output_type": "stream",
          "name": "stdout",
          "text": [
            "Requirement already satisfied: torchmetrics in /usr/local/lib/python3.11/dist-packages (1.8.0)\n",
            "Requirement already satisfied: numpy>1.20.0 in /usr/local/lib/python3.11/dist-packages (from torchmetrics) (2.0.2)\n",
            "Requirement already satisfied: packaging>17.1 in /usr/local/lib/python3.11/dist-packages (from torchmetrics) (25.0)\n",
            "Requirement already satisfied: torch>=2.0.0 in /usr/local/lib/python3.11/dist-packages (from torchmetrics) (2.6.0+cu124)\n",
            "Requirement already satisfied: lightning-utilities>=0.8.0 in /usr/local/lib/python3.11/dist-packages (from torchmetrics) (0.15.0)\n",
            "Requirement already satisfied: setuptools in /usr/local/lib/python3.11/dist-packages (from lightning-utilities>=0.8.0->torchmetrics) (75.2.0)\n",
            "Requirement already satisfied: typing_extensions in /usr/local/lib/python3.11/dist-packages (from lightning-utilities>=0.8.0->torchmetrics) (4.14.1)\n",
            "Requirement already satisfied: filelock in /usr/local/lib/python3.11/dist-packages (from torch>=2.0.0->torchmetrics) (3.18.0)\n",
            "Requirement already satisfied: networkx in /usr/local/lib/python3.11/dist-packages (from torch>=2.0.0->torchmetrics) (3.5)\n",
            "Requirement already satisfied: jinja2 in /usr/local/lib/python3.11/dist-packages (from torch>=2.0.0->torchmetrics) (3.1.6)\n",
            "Requirement already satisfied: fsspec in /usr/local/lib/python3.11/dist-packages (from torch>=2.0.0->torchmetrics) (2025.3.0)\n",
            "Requirement already satisfied: nvidia-cuda-nvrtc-cu12==12.4.127 in /usr/local/lib/python3.11/dist-packages (from torch>=2.0.0->torchmetrics) (12.4.127)\n",
            "Requirement already satisfied: nvidia-cuda-runtime-cu12==12.4.127 in /usr/local/lib/python3.11/dist-packages (from torch>=2.0.0->torchmetrics) (12.4.127)\n",
            "Requirement already satisfied: nvidia-cuda-cupti-cu12==12.4.127 in /usr/local/lib/python3.11/dist-packages (from torch>=2.0.0->torchmetrics) (12.4.127)\n",
            "Requirement already satisfied: nvidia-cudnn-cu12==9.1.0.70 in /usr/local/lib/python3.11/dist-packages (from torch>=2.0.0->torchmetrics) (9.1.0.70)\n",
            "Requirement already satisfied: nvidia-cublas-cu12==12.4.5.8 in /usr/local/lib/python3.11/dist-packages (from torch>=2.0.0->torchmetrics) (12.4.5.8)\n",
            "Requirement already satisfied: nvidia-cufft-cu12==11.2.1.3 in /usr/local/lib/python3.11/dist-packages (from torch>=2.0.0->torchmetrics) (11.2.1.3)\n",
            "Requirement already satisfied: nvidia-curand-cu12==10.3.5.147 in /usr/local/lib/python3.11/dist-packages (from torch>=2.0.0->torchmetrics) (10.3.5.147)\n",
            "Requirement already satisfied: nvidia-cusolver-cu12==11.6.1.9 in /usr/local/lib/python3.11/dist-packages (from torch>=2.0.0->torchmetrics) (11.6.1.9)\n",
            "Requirement already satisfied: nvidia-cusparse-cu12==12.3.1.170 in /usr/local/lib/python3.11/dist-packages (from torch>=2.0.0->torchmetrics) (12.3.1.170)\n",
            "Requirement already satisfied: nvidia-cusparselt-cu12==0.6.2 in /usr/local/lib/python3.11/dist-packages (from torch>=2.0.0->torchmetrics) (0.6.2)\n",
            "Requirement already satisfied: nvidia-nccl-cu12==2.21.5 in /usr/local/lib/python3.11/dist-packages (from torch>=2.0.0->torchmetrics) (2.21.5)\n",
            "Requirement already satisfied: nvidia-nvtx-cu12==12.4.127 in /usr/local/lib/python3.11/dist-packages (from torch>=2.0.0->torchmetrics) (12.4.127)\n",
            "Requirement already satisfied: nvidia-nvjitlink-cu12==12.4.127 in /usr/local/lib/python3.11/dist-packages (from torch>=2.0.0->torchmetrics) (12.4.127)\n",
            "Requirement already satisfied: triton==3.2.0 in /usr/local/lib/python3.11/dist-packages (from torch>=2.0.0->torchmetrics) (3.2.0)\n",
            "Requirement already satisfied: sympy==1.13.1 in /usr/local/lib/python3.11/dist-packages (from torch>=2.0.0->torchmetrics) (1.13.1)\n",
            "Requirement already satisfied: mpmath<1.4,>=1.1.0 in /usr/local/lib/python3.11/dist-packages (from sympy==1.13.1->torch>=2.0.0->torchmetrics) (1.3.0)\n",
            "Requirement already satisfied: MarkupSafe>=2.0 in /usr/local/lib/python3.11/dist-packages (from jinja2->torch>=2.0.0->torchmetrics) (3.0.2)\n"
          ]
        }
      ]
    },
    {
      "cell_type": "code",
      "source": [
        "mean= (0.4377, 0.4438, 0.4728)\n",
        "std= (0.1980, 0.2010, 0.1970)\n",
        "\n",
        "#Reference for these values:\n",
        "# Convolutional Neural Networks Applied to House Numbers Digit Classification\n",
        "# Pierre Sermanet, Soumith Chintala and Yann LeCun"
      ],
      "metadata": {
        "id": "uxhfLc2HHAFf"
      },
      "execution_count": 23,
      "outputs": []
    },
    {
      "cell_type": "code",
      "source": [
        "train_transform= transforms.Compose([\n",
        "    transforms.RandomCrop(32, padding=4),\n",
        "    transforms.ColorJitter(0.2, 0.2, 0.2),\n",
        "    transforms.RandomHorizontalFlip(),\n",
        "    transforms.RandomRotation(15),\n",
        "    transforms.ToTensor(),\n",
        "    transforms.Normalize(mean, std)\n",
        "])\n",
        "\n",
        "val_transform= transforms.Compose([\n",
        "    transforms.ToTensor(),\n",
        "    transforms.Normalize(mean, std)\n",
        "])\n",
        "\n",
        "test_transform= transforms.Compose([\n",
        "    transforms.ToTensor(),\n",
        "    transforms.Normalize(mean, std)\n",
        "])"
      ],
      "metadata": {
        "id": "cnM2dfUoE7kB"
      },
      "execution_count": 24,
      "outputs": []
    },
    {
      "cell_type": "code",
      "source": [
        "dataset= SVHN(root=\"data\", split=\"train\", download=True, transform= train_transform)\n",
        "test_set= SVHN(root=\"data\", split=\"test\", download=True, transform= test_transform)\n",
        "len(dataset)"
      ],
      "metadata": {
        "colab": {
          "base_uri": "https://localhost:8080/"
        },
        "id": "2OvT_3BPH2Sl",
        "outputId": "f60ef6f0-166d-4318-9bdc-3d1e25d57e22"
      },
      "execution_count": 25,
      "outputs": [
        {
          "output_type": "execute_result",
          "data": {
            "text/plain": [
              "73257"
            ]
          },
          "metadata": {},
          "execution_count": 25
        }
      ]
    },
    {
      "cell_type": "code",
      "source": [
        "train_length= int(0.8 * len(dataset))\n",
        "\n",
        "val_length= int(len(dataset)-train_length)\n",
        "\n",
        "print(train_length, val_length)"
      ],
      "metadata": {
        "colab": {
          "base_uri": "https://localhost:8080/"
        },
        "id": "80DCFyiFIhWS",
        "outputId": "e05fce57-ee9b-48be-8477-9012015c36eb"
      },
      "execution_count": 26,
      "outputs": [
        {
          "output_type": "stream",
          "name": "stdout",
          "text": [
            "58605 14652\n"
          ]
        }
      ]
    },
    {
      "cell_type": "code",
      "source": [
        "train_set, val_set= torch.utils.data.random_split(dataset,[train_length, val_length])"
      ],
      "metadata": {
        "id": "IXXaahHrJAbI"
      },
      "execution_count": 27,
      "outputs": []
    },
    {
      "cell_type": "code",
      "source": [
        "print(len(train_set), len(val_set), len(test_set))"
      ],
      "metadata": {
        "colab": {
          "base_uri": "https://localhost:8080/"
        },
        "id": "XbxY2LvKJVFO",
        "outputId": "f2304dc8-6b82-485f-ad78-c25ec0abd170"
      },
      "execution_count": 28,
      "outputs": [
        {
          "output_type": "stream",
          "name": "stdout",
          "text": [
            "58605 14652 26032\n"
          ]
        }
      ]
    },
    {
      "cell_type": "code",
      "source": [
        "train_loader= DataLoader(train_set, shuffle=True, batch_size= 128)\n",
        "val_loader= DataLoader(val_set, shuffle= False, batch_size=128)\n",
        "test_loader= DataLoader(test_set, shuffle=False, batch_size=128)"
      ],
      "metadata": {
        "id": "doIvurLIJeLE"
      },
      "execution_count": 29,
      "outputs": []
    },
    {
      "cell_type": "code",
      "source": [
        "class CNN(nn.Module):\n",
        "  def __init__(self):\n",
        "    super().__init__()\n",
        "\n",
        "    # Input image is 32x32\n",
        "\n",
        "    self.stack= nn.Sequential(\n",
        "        nn.Conv2d(in_channels=3, out_channels=32, kernel_size=3, padding=1),\n",
        "        nn.BatchNorm2d(32),\n",
        "        nn.ReLU(),\n",
        "        nn.Conv2d(in_channels=32, out_channels=32, kernel_size=3, padding=1),\n",
        "        nn.BatchNorm2d(32),\n",
        "        nn.ReLU(),\n",
        "        nn.MaxPool2d(kernel_size=2),  # In output here no. of channels will remain the same\n",
        "\n",
        "        nn.Conv2d(in_channels=32, out_channels=64, kernel_size=3, padding=1),\n",
        "        nn.BatchNorm2d(64),\n",
        "        nn.ReLU(),\n",
        "        nn.Conv2d(in_channels=64, out_channels=64, kernel_size=3, padding=1),\n",
        "        nn.BatchNorm2d(64),\n",
        "        nn.ReLU(),\n",
        "        nn.MaxPool2d(kernel_size=2),\n",
        "\n",
        "        nn.Conv2d(in_channels=64, out_channels=128, kernel_size=3, padding=1),\n",
        "        nn.BatchNorm2d(128),\n",
        "        nn.ReLU(),\n",
        "        nn.Conv2d(in_channels=128, out_channels=128, kernel_size=3, padding=1),\n",
        "        nn.BatchNorm2d(128),\n",
        "        nn.ReLU(),\n",
        "        nn.MaxPool2d(kernel_size=2),\n",
        "\n",
        "        nn.Conv2d(in_channels=128, out_channels=256, kernel_size=3, padding=1),\n",
        "        nn.BatchNorm2d(256),\n",
        "        nn.ReLU(),\n",
        "        nn.Conv2d(in_channels=256, out_channels=256, kernel_size=3, padding=1),\n",
        "        nn.BatchNorm2d(256),\n",
        "        nn.ReLU(),\n",
        "        nn.MaxPool2d(kernel_size=2)\n",
        "    )\n",
        "\n",
        "    self.classifier= nn.Sequential(\n",
        "        nn.Flatten(),\n",
        "        nn.Linear(in_features=256*2*2, out_features=512),\n",
        "        nn.ReLU(),\n",
        "        nn.Dropout(0.2),\n",
        "        nn.Linear(in_features=512, out_features=10)\n",
        "    )\n",
        "\n",
        "  def forward(self, x):\n",
        "    x=self.stack(x)\n",
        "    x=self.classifier(x)\n",
        "    return x\n",
        "\n",
        ""
      ],
      "metadata": {
        "id": "8vaT0-gvKS59"
      },
      "execution_count": 30,
      "outputs": []
    },
    {
      "cell_type": "code",
      "source": [
        "device = torch.device(\"cuda\" if torch.cuda.is_available() else \"cpu\")"
      ],
      "metadata": {
        "id": "MpVgBM6luZTv"
      },
      "execution_count": 31,
      "outputs": []
    },
    {
      "cell_type": "code",
      "source": [
        "model= CNN().to(device)"
      ],
      "metadata": {
        "id": "Q4GIBti_ptRj"
      },
      "execution_count": 32,
      "outputs": []
    },
    {
      "cell_type": "code",
      "source": [
        "loss_function= nn.CrossEntropyLoss()"
      ],
      "metadata": {
        "id": "29LhJWI4uofF"
      },
      "execution_count": 33,
      "outputs": []
    },
    {
      "cell_type": "code",
      "source": [
        "optimizer= torch.optim.Adam(model.parameters(), lr= 0.001)\n",
        "\n",
        "scheduler= torch.optim.lr_scheduler.ReduceLROnPlateau(optimizer, mode= \"max\", factor= 0.5, patience= 3)"
      ],
      "metadata": {
        "id": "NmVzdcxmu27x"
      },
      "execution_count": 34,
      "outputs": []
    },
    {
      "cell_type": "code",
      "source": [
        "def train(dataloader, model, loss_function, optimizer):\n",
        "  model.train()\n",
        "  total_loss= 0\n",
        "\n",
        "  for batch, (image, label) in enumerate(dataloader):\n",
        "    image= image.to(device)\n",
        "    label= label.to(device)\n",
        "\n",
        "    prediction= model(image)\n",
        "    loss= loss_function(prediction, label)\n",
        "\n",
        "    loss.backward()\n",
        "    optimizer.step()\n",
        "    optimizer.zero_grad()\n",
        "\n",
        "    total_loss+= loss\n",
        "\n",
        "  avg_loss= total_loss / len(dataloader)\n",
        "  print(f\"Training Average Loss: {avg_loss:.4f}\")"
      ],
      "metadata": {
        "id": "Uclh35RYvKzB"
      },
      "execution_count": 35,
      "outputs": []
    },
    {
      "cell_type": "code",
      "source": [
        "val_accuracy = Accuracy(task=\"multiclass\", num_classes=10).to(device)\n",
        "\n",
        "def validate(dataloader, model, loss_function):\n",
        "    model.eval()\n",
        "    total_loss = 0\n",
        "    val_accuracy.reset()\n",
        "\n",
        "    with torch.no_grad():\n",
        "        for image, label in dataloader:\n",
        "            image = image.to(device)\n",
        "            label = label.to(device)\n",
        "\n",
        "            pred = model(image)\n",
        "            loss = loss_function(pred, label)\n",
        "            total_loss += loss\n",
        "\n",
        "            val_accuracy.update(pred, label)\n",
        "\n",
        "    avg_loss = total_loss / len(dataloader)\n",
        "    accuracy = val_accuracy.compute() * 100  # Convert to %\n",
        "\n",
        "    print(f\"Validation Loss: {avg_loss:.4f}, Validation Accuracy: {accuracy:.2f}%\")\n",
        "\n",
        "    return accuracy"
      ],
      "metadata": {
        "id": "QPcTUKeovWmO"
      },
      "execution_count": 36,
      "outputs": []
    },
    {
      "cell_type": "code",
      "source": [
        "test_accuracy = Accuracy(task=\"multiclass\", num_classes=10).to(device)\n",
        "\n",
        "def test(dataloader, model, loss_function):\n",
        "    model.eval()\n",
        "    total_loss = 0\n",
        "    test_accuracy.reset()   #Reset metric state for each epoch\n",
        "\n",
        "    with torch.no_grad():\n",
        "        for image, label in dataloader:\n",
        "            image = image.to(device)\n",
        "            label = label.to(device)\n",
        "\n",
        "            pred = model(image)\n",
        "            loss = loss_function(pred, label)\n",
        "            total_loss += loss\n",
        "\n",
        "            test_accuracy.update(pred, label)\n",
        "\n",
        "    avg_loss = total_loss / len(dataloader)\n",
        "    accuracy = test_accuracy.compute() * 100  # Convert to %\n",
        "\n",
        "    print(f\"Test Loss: {avg_loss:.4f}, Test Accuracy: {accuracy:.2f}%\")\n",
        "\n",
        "    return accuracy"
      ],
      "metadata": {
        "id": "hqv0-vmkzGB-"
      },
      "execution_count": 39,
      "outputs": []
    },
    {
      "cell_type": "code",
      "source": [
        "epochs = 35\n",
        "for epoch in range(epochs):\n",
        "    print(f\"\\nEpoch {epoch+1}/{epochs}\")\n",
        "    train(train_loader, model, loss_function, optimizer)\n",
        "    val_acc = validate(val_loader, model, loss_function)\n",
        "    scheduler.step(val_acc)\n",
        "\n",
        "\n",
        "print(\"-----------------------------------------------------------------\")\n",
        "test(test_loader, model, loss_function)"
      ],
      "metadata": {
        "colab": {
          "base_uri": "https://localhost:8080/"
        },
        "id": "cqwwZ7fbzMvH",
        "outputId": "c1ad55be-d97b-45fe-d144-f748136ded07"
      },
      "execution_count": 38,
      "outputs": [
        {
          "output_type": "stream",
          "name": "stdout",
          "text": [
            "\n",
            "Epoch 1/35\n",
            "Training Average Loss: 1.7664\n",
            "Validation Loss: 0.8497, Validation Accuracy: 71.03%\n",
            "\n",
            "Epoch 2/35\n",
            "Training Average Loss: 0.6673\n",
            "Validation Loss: 0.5161, Validation Accuracy: 83.33%\n",
            "\n",
            "Epoch 3/35\n",
            "Training Average Loss: 0.5105\n",
            "Validation Loss: 0.4500, Validation Accuracy: 85.87%\n",
            "\n",
            "Epoch 4/35\n",
            "Training Average Loss: 0.4388\n",
            "Validation Loss: 0.3977, Validation Accuracy: 87.76%\n",
            "\n",
            "Epoch 5/35\n",
            "Training Average Loss: 0.4026\n",
            "Validation Loss: 0.4021, Validation Accuracy: 87.29%\n",
            "\n",
            "Epoch 6/35\n",
            "Training Average Loss: 0.3736\n",
            "Validation Loss: 0.3556, Validation Accuracy: 89.02%\n",
            "\n",
            "Epoch 7/35\n",
            "Training Average Loss: 0.3544\n",
            "Validation Loss: 0.3529, Validation Accuracy: 89.13%\n",
            "\n",
            "Epoch 8/35\n",
            "Training Average Loss: 0.3359\n",
            "Validation Loss: 0.3214, Validation Accuracy: 90.31%\n",
            "\n",
            "Epoch 9/35\n",
            "Training Average Loss: 0.3170\n",
            "Validation Loss: 0.3195, Validation Accuracy: 90.61%\n",
            "\n",
            "Epoch 10/35\n",
            "Training Average Loss: 0.3092\n",
            "Validation Loss: 0.3319, Validation Accuracy: 89.97%\n",
            "\n",
            "Epoch 11/35\n",
            "Training Average Loss: 0.2969\n",
            "Validation Loss: 0.2988, Validation Accuracy: 90.98%\n",
            "\n",
            "Epoch 12/35\n",
            "Training Average Loss: 0.2893\n",
            "Validation Loss: 0.2988, Validation Accuracy: 91.10%\n",
            "\n",
            "Epoch 13/35\n",
            "Training Average Loss: 0.2812\n",
            "Validation Loss: 0.2861, Validation Accuracy: 91.59%\n",
            "\n",
            "Epoch 14/35\n",
            "Training Average Loss: 0.2726\n",
            "Validation Loss: 0.2776, Validation Accuracy: 91.95%\n",
            "\n",
            "Epoch 15/35\n",
            "Training Average Loss: 0.2673\n",
            "Validation Loss: 0.2647, Validation Accuracy: 92.21%\n",
            "\n",
            "Epoch 16/35\n",
            "Training Average Loss: 0.2597\n",
            "Validation Loss: 0.2915, Validation Accuracy: 91.48%\n",
            "\n",
            "Epoch 17/35\n",
            "Training Average Loss: 0.2533\n",
            "Validation Loss: 0.2702, Validation Accuracy: 91.88%\n",
            "\n",
            "Epoch 18/35\n",
            "Training Average Loss: 0.2495\n",
            "Validation Loss: 0.2645, Validation Accuracy: 92.13%\n",
            "\n",
            "Epoch 19/35\n",
            "Training Average Loss: 0.2456\n",
            "Validation Loss: 0.2579, Validation Accuracy: 92.48%\n",
            "\n",
            "Epoch 20/35\n",
            "Training Average Loss: 0.2374\n",
            "Validation Loss: 0.2550, Validation Accuracy: 92.57%\n",
            "\n",
            "Epoch 21/35\n",
            "Training Average Loss: 0.2339\n",
            "Validation Loss: 0.2615, Validation Accuracy: 92.46%\n",
            "\n",
            "Epoch 22/35\n",
            "Training Average Loss: 0.2293\n",
            "Validation Loss: 0.2415, Validation Accuracy: 92.92%\n",
            "\n",
            "Epoch 23/35\n",
            "Training Average Loss: 0.2256\n",
            "Validation Loss: 0.2728, Validation Accuracy: 92.15%\n",
            "\n",
            "Epoch 24/35\n",
            "Training Average Loss: 0.2212\n",
            "Validation Loss: 0.2653, Validation Accuracy: 92.12%\n",
            "\n",
            "Epoch 25/35\n",
            "Training Average Loss: 0.2180\n",
            "Validation Loss: 0.2526, Validation Accuracy: 92.90%\n",
            "\n",
            "Epoch 26/35\n",
            "Training Average Loss: 0.2138\n",
            "Validation Loss: 0.2576, Validation Accuracy: 92.54%\n",
            "\n",
            "Epoch 27/35\n",
            "Training Average Loss: 0.1887\n",
            "Validation Loss: 0.2315, Validation Accuracy: 93.45%\n",
            "\n",
            "Epoch 28/35\n",
            "Training Average Loss: 0.1792\n",
            "Validation Loss: 0.2376, Validation Accuracy: 93.23%\n",
            "\n",
            "Epoch 29/35\n",
            "Training Average Loss: 0.1773\n",
            "Validation Loss: 0.2303, Validation Accuracy: 93.22%\n",
            "\n",
            "Epoch 30/35\n",
            "Training Average Loss: 0.1765\n",
            "Validation Loss: 0.2311, Validation Accuracy: 93.46%\n",
            "\n",
            "Epoch 31/35\n",
            "Training Average Loss: 0.1720\n",
            "Validation Loss: 0.2238, Validation Accuracy: 93.53%\n",
            "\n",
            "Epoch 32/35\n",
            "Training Average Loss: 0.1690\n",
            "Validation Loss: 0.2261, Validation Accuracy: 93.73%\n",
            "\n",
            "Epoch 33/35\n",
            "Training Average Loss: 0.1667\n",
            "Validation Loss: 0.2284, Validation Accuracy: 93.56%\n",
            "\n",
            "Epoch 34/35\n",
            "Training Average Loss: 0.1639\n",
            "Validation Loss: 0.2242, Validation Accuracy: 93.71%\n",
            "\n",
            "Epoch 35/35\n",
            "Training Average Loss: 0.1617\n",
            "Validation Loss: 0.2402, Validation Accuracy: 93.26%\n",
            "-----------------------------------------------------------------\n",
            "Test Loss: 0.1881, Test Accuracy: 0.00%\n"
          ]
        },
        {
          "output_type": "stream",
          "name": "stderr",
          "text": [
            "/usr/local/lib/python3.11/dist-packages/torchmetrics/utilities/prints.py:43: UserWarning: The ``compute`` method of metric MulticlassAccuracy was called before the ``update`` method which may lead to errors, as metric states have not yet been updated.\n",
            "  warnings.warn(*args, **kwargs)\n"
          ]
        },
        {
          "output_type": "execute_result",
          "data": {
            "text/plain": [
              "tensor(0., device='cuda:0')"
            ]
          },
          "metadata": {},
          "execution_count": 38
        }
      ]
    }
  ]
}