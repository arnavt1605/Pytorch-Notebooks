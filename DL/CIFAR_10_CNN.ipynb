{
  "nbformat": 4,
  "nbformat_minor": 0,
  "metadata": {
    "colab": {
      "provenance": [],
      "gpuType": "T4",
      "authorship_tag": "ABX9TyP2f2VE6O8ckzZXtZNWcuqR",
      "include_colab_link": true
    },
    "kernelspec": {
      "name": "python3",
      "display_name": "Python 3"
    },
    "language_info": {
      "name": "python"
    },
    "accelerator": "GPU"
  },
  "cells": [
    {
      "cell_type": "markdown",
      "metadata": {
        "id": "view-in-github",
        "colab_type": "text"
      },
      "source": [
        "<a href=\"https://colab.research.google.com/github/arnavt1605/Projects/blob/main/DL/CIFAR_10_CNN.ipynb\" target=\"_parent\"><img src=\"https://colab.research.google.com/assets/colab-badge.svg\" alt=\"Open In Colab\"/></a>"
      ]
    },
    {
      "cell_type": "code",
      "execution_count": 78,
      "metadata": {
        "id": "jOKnI8MT4cVU"
      },
      "outputs": [],
      "source": [
        "import torch\n",
        "import torch.nn as nn\n",
        "import torch.optim\n",
        "import torchvision\n",
        "from torchvision.datasets import CIFAR10\n",
        "from torchvision import transforms\n",
        "from torch.utils.data import DataLoader\n",
        "from torch.utils.data import random_split\n",
        "import matplotlib.pyplot as plt\n",
        "\n",
        "device= torch.device(\"cuda\" if torch.cuda.is_available() else \"cpu\")"
      ]
    },
    {
      "cell_type": "markdown",
      "source": [
        "<h2>Finding out the mean and std dev of the training dataset</h2>"
      ],
      "metadata": {
        "id": "aPVAmoPWEgip"
      }
    },
    {
      "cell_type": "code",
      "source": [
        "# dataset= CIFAR10(root=\"data\", train= True, download=True, transform= transforms.ToTensor())\n",
        "# loader= DataLoader(dataset, batch_size= 50000, shuffle= True)\n",
        "\n",
        "# data= next(iter(loader))[0]\n",
        "# mean= data.mean(dim=[0, 2, 3])\n",
        "# std= data.std(dim=[0, 2, 3])\n",
        "\n",
        "# mean= tuple(mean.tolist())\n",
        "# std= tuple(std.tolist())\n",
        "\n",
        "# print(\"Mean: \", mean)\n",
        "# print(\"Standard Deviation: \", std)\n",
        "mean = (0.4914, 0.4822, 0.4465)\n",
        "std = (0.2023, 0.1994, 0.2010)\n",
        "\n",
        "print(\"Mean: \", mean)\n",
        "print(\"Standard Deviation: \", std)\n"
      ],
      "metadata": {
        "colab": {
          "base_uri": "https://localhost:8080/"
        },
        "id": "46mjbZArEZZS",
        "outputId": "dccbc194-cdf2-477d-e6d7-797ff6e33ad1"
      },
      "execution_count": 79,
      "outputs": [
        {
          "output_type": "stream",
          "name": "stdout",
          "text": [
            "Mean:  (0.4914, 0.4822, 0.4465)\n",
            "Standard Deviation:  (0.2023, 0.1994, 0.201)\n"
          ]
        }
      ]
    },
    {
      "cell_type": "code",
      "source": [
        "#next(iter(loader))[0].shape"
      ],
      "metadata": {
        "id": "i7s-7GaYE1mb"
      },
      "execution_count": 80,
      "outputs": []
    },
    {
      "cell_type": "markdown",
      "source": [
        "<h2>Further Steps</h2>"
      ],
      "metadata": {
        "id": "3XDQXChaHOLh"
      }
    },
    {
      "cell_type": "code",
      "source": [
        "train_transform= transforms.Compose([\n",
        "    transforms.ToTensor(),\n",
        "    transforms.RandomCrop(32, padding= 4),\n",
        "    transforms.RandomHorizontalFlip(),\n",
        "    transforms.RandomRotation(15),\n",
        "    transforms.Normalize(mean, std),\n",
        "    transforms.ColorJitter(0.2, 0.2, 0.2)\n",
        "])\n",
        "\n",
        "# Added this later after bad test loss and accuracy\n",
        "val_transform = transforms.Compose([\n",
        "    transforms.ToTensor(),\n",
        "    transforms.Normalize(mean, std)\n",
        "])\n",
        "\n",
        "test_transform= transforms.Compose([\n",
        "    transforms.ToTensor(),\n",
        "    transforms.Normalize(mean, std)\n",
        "])"
      ],
      "metadata": {
        "id": "tn3TSymEF_bT"
      },
      "execution_count": 81,
      "outputs": []
    },
    {
      "cell_type": "code",
      "source": [
        "# For the splits to apply individul tranforms\n",
        "base_train = CIFAR10(root=\"data\", train=True, download=True, transform=train_transform)\n",
        "base_val = CIFAR10(root=\"data\", train=True, download=True, transform=val_transform)\n",
        "\n",
        "torch.manual_seed(0)\n",
        "\n",
        "train_set, _ = torch.utils.data.random_split(base_train, [45000, 5000])\n",
        "_, val_set = torch.utils.data.random_split(base_val, [45000, 5000])\n",
        "\n",
        "\n",
        "test_set = CIFAR10(root=\"data\", train=False, download=True, transform=test_transform)\n",
        "\n",
        "train_loader = DataLoader(train_set, batch_size=64, shuffle=True)\n",
        "val_loader = DataLoader(val_set, batch_size=64, shuffle = False)\n",
        "test_loader = DataLoader(val_set, batch_size=64, shuffle = False)"
      ],
      "metadata": {
        "id": "LUpcbVs-JPPP"
      },
      "execution_count": 82,
      "outputs": []
    },
    {
      "cell_type": "code",
      "source": [
        "len(train_set), len(val_set), len(test_set)"
      ],
      "metadata": {
        "colab": {
          "base_uri": "https://localhost:8080/"
        },
        "id": "5ncW-RkrhUwV",
        "outputId": "d1d56602-9c5f-4376-c986-2fcf4ab3a5bb"
      },
      "execution_count": 83,
      "outputs": [
        {
          "output_type": "execute_result",
          "data": {
            "text/plain": [
              "(45000, 5000, 10000)"
            ]
          },
          "metadata": {},
          "execution_count": 83
        }
      ]
    },
    {
      "cell_type": "code",
      "source": [
        "class CNN(nn.Module):\n",
        "  def __init__(self):\n",
        "    super().__init__()\n",
        "# Input size of images is 32x32\n",
        "\n",
        "    self.stack= nn.Sequential(\n",
        "        nn.Conv2d(3, 32, 3, padding=1),\n",
        "        nn.BatchNorm2d(32),\n",
        "        nn.ReLU(),\n",
        "        nn.Conv2d(32, 32, 3, padding=1),\n",
        "        nn.BatchNorm2d(32),\n",
        "        nn.ReLU(),\n",
        "        nn.MaxPool2d(2),\n",
        "        nn.Dropout(0.2),\n",
        "\n",
        "        # Block 2\n",
        "        nn.Conv2d(32, 64, 3, padding=1),\n",
        "        nn.BatchNorm2d(64),\n",
        "        nn.ReLU(),\n",
        "        nn.Conv2d(64, 64, 3, padding=1),\n",
        "        nn.BatchNorm2d(64),\n",
        "        nn.ReLU(),\n",
        "        nn.MaxPool2d(2),\n",
        "        nn.Dropout(0.2),\n",
        "\n",
        "        # Block 3\n",
        "        nn.Conv2d(64, 128, 3, padding=1),\n",
        "        nn.BatchNorm2d(128),\n",
        "        nn.ReLU(),\n",
        "        nn.Conv2d(128, 128, 3, padding=1),\n",
        "        nn.BatchNorm2d(128),\n",
        "        nn.ReLU(),\n",
        "        nn.MaxPool2d(2),\n",
        "        nn.Dropout(0.2),\n",
        "\n",
        "    )\n",
        "\n",
        "    self.classifier= nn.Sequential(\n",
        "        nn.Flatten(),\n",
        "        nn.Linear(128*4*4, 256),\n",
        "        nn.ReLU(),\n",
        "        nn.Dropout(0.2),\n",
        "        nn.Linear(256, 10) #Final 10 outputs\n",
        "    )\n",
        "\n",
        "  def forward(self, x):\n",
        "    x= self.stack(x)\n",
        "    x= self.classifier(x)\n",
        "    return x"
      ],
      "metadata": {
        "id": "TI8AGyBzJwqC"
      },
      "execution_count": 84,
      "outputs": []
    },
    {
      "cell_type": "code",
      "source": [
        "model= CNN().to(device)"
      ],
      "metadata": {
        "id": "S9h-Ucp1N_Zw"
      },
      "execution_count": 85,
      "outputs": []
    },
    {
      "cell_type": "code",
      "source": [
        "loss_function= nn.CrossEntropyLoss()"
      ],
      "metadata": {
        "id": "nOSIJ1s0OHi9"
      },
      "execution_count": 86,
      "outputs": []
    },
    {
      "cell_type": "code",
      "source": [
        "optimizer = torch.optim.Adam(model.parameters(), lr=0.001)\n",
        "\n",
        "scheduler = torch.optim.lr_scheduler.StepLR(optimizer, step_size=10, gamma=0.5)"
      ],
      "metadata": {
        "id": "hk9_s6TBONp0"
      },
      "execution_count": 87,
      "outputs": []
    },
    {
      "cell_type": "code",
      "source": [
        "def train(dataloader, model, loss_function, optimizer):\n",
        "  model.train()\n",
        "  total_loss= 0\n",
        "\n",
        "  for batch, (image, label) in enumerate(dataloader):\n",
        "    image= image.to(device)\n",
        "    label= label.to(device)\n",
        "\n",
        "    prediction= model(image)\n",
        "    loss= loss_function(prediction, label)\n",
        "\n",
        "    loss.backward()\n",
        "    optimizer.step()\n",
        "    optimizer.zero_grad()\n",
        "\n",
        "    total_loss+= loss\n",
        "\n",
        "  avg_loss= total_loss / len(dataloader)\n",
        "  print(f\"Training Average Loss: {avg_loss:.4f}\")"
      ],
      "metadata": {
        "id": "EmYf3WtZOqZt"
      },
      "execution_count": 88,
      "outputs": []
    },
    {
      "cell_type": "code",
      "source": [
        "def validate(dataloader, model, loss_function):\n",
        "  model.eval()\n",
        "  total_loss= 0\n",
        "  correct= 0\n",
        "  total= 0\n",
        "  with torch.no_grad():\n",
        "    for image, label in dataloader:\n",
        "      image= image.to(device)\n",
        "      label= label.to(device)\n",
        "\n",
        "      pred = model(image)\n",
        "      loss= loss_function(pred, label)\n",
        "      total_loss+= loss\n",
        "\n",
        "      predicted_classes = pred.argmax(dim=1)\n",
        "      correct+= (predicted_classes == label).sum().item()\n",
        "      total+= label.size(0)\n",
        "\n",
        "  avg_loss= total_loss / len(dataloader)\n",
        "  accuracy= correct/total * 100\n",
        "  print(f\"Validation Loss: {avg_loss:.4f}, Validation Accuracy: {accuracy:.2f}%\")"
      ],
      "metadata": {
        "id": "FazvXfvvO1OR"
      },
      "execution_count": 89,
      "outputs": []
    },
    {
      "cell_type": "code",
      "source": [
        "def test(dataloader, model, loss_function):\n",
        "    model.eval()\n",
        "    total_loss = 0\n",
        "    correct = 0\n",
        "    total = 0\n",
        "\n",
        "    with torch.no_grad():\n",
        "        for image, label in dataloader:\n",
        "            image= image.to(device)\n",
        "            label= label.to(device)\n",
        "\n",
        "            preds = model(image)\n",
        "            loss = loss_function(preds, label)\n",
        "            total_loss += loss.item()\n",
        "\n",
        "            predicted_classes = preds.argmax(dim=1)\n",
        "            correct += (predicted_classes == label).sum().item()\n",
        "            total += label.size(0)\n",
        "\n",
        "    avg_loss = total_loss / len(dataloader)\n",
        "    accuracy = correct / total * 100\n",
        "    print(f\"Test Loss: {avg_loss:.4f}, Test Accuracy: {accuracy:.2f}%\")"
      ],
      "metadata": {
        "id": "qNiGDIVAO3XM"
      },
      "execution_count": 90,
      "outputs": []
    },
    {
      "cell_type": "code",
      "source": [
        "epochs = 27\n",
        "for epoch in range(epochs):\n",
        "    print(f\"\\nEpoch {epoch+1}/{epochs}\")\n",
        "    train(train_loader, model, loss_function, optimizer)\n",
        "    validate(val_loader, model, loss_function)\n",
        "    scheduler.step()"
      ],
      "metadata": {
        "colab": {
          "base_uri": "https://localhost:8080/"
        },
        "id": "DGs2Bv8MO5Xk",
        "outputId": "7d496459-c98d-44ca-b4db-dbf9f9f112cb"
      },
      "execution_count": 91,
      "outputs": [
        {
          "output_type": "stream",
          "name": "stdout",
          "text": [
            "\n",
            "Epoch 1/27\n",
            "Training Average Loss: 1.7712\n",
            "Validation Loss: 4.3033, Validation Accuracy: 25.56%\n",
            "\n",
            "Epoch 2/27\n",
            "Training Average Loss: 1.5387\n",
            "Validation Loss: 2.2086, Validation Accuracy: 39.34%\n",
            "\n",
            "Epoch 3/27\n",
            "Training Average Loss: 1.4309\n",
            "Validation Loss: 2.1185, Validation Accuracy: 43.32%\n",
            "\n",
            "Epoch 4/27\n",
            "Training Average Loss: 1.3582\n",
            "Validation Loss: 2.5801, Validation Accuracy: 37.02%\n",
            "\n",
            "Epoch 5/27\n",
            "Training Average Loss: 1.2963\n",
            "Validation Loss: 2.0430, Validation Accuracy: 46.44%\n",
            "\n",
            "Epoch 6/27\n",
            "Training Average Loss: 1.2494\n",
            "Validation Loss: 2.6600, Validation Accuracy: 40.28%\n",
            "\n",
            "Epoch 7/27\n",
            "Training Average Loss: 1.2093\n",
            "Validation Loss: 1.8549, Validation Accuracy: 46.70%\n",
            "\n",
            "Epoch 8/27\n",
            "Training Average Loss: 1.1719\n",
            "Validation Loss: 2.2966, Validation Accuracy: 44.10%\n",
            "\n",
            "Epoch 9/27\n",
            "Training Average Loss: 1.1470\n",
            "Validation Loss: 1.5152, Validation Accuracy: 54.38%\n",
            "\n",
            "Epoch 10/27\n",
            "Training Average Loss: 1.1221\n",
            "Validation Loss: 1.4049, Validation Accuracy: 53.52%\n",
            "\n",
            "Epoch 11/27\n",
            "Training Average Loss: 1.0579\n",
            "Validation Loss: 1.2463, Validation Accuracy: 58.54%\n",
            "\n",
            "Epoch 12/27\n",
            "Training Average Loss: 1.0291\n",
            "Validation Loss: 1.2652, Validation Accuracy: 58.50%\n",
            "\n",
            "Epoch 13/27\n",
            "Training Average Loss: 1.0188\n",
            "Validation Loss: 1.3140, Validation Accuracy: 58.82%\n",
            "\n",
            "Epoch 14/27\n",
            "Training Average Loss: 1.0009\n",
            "Validation Loss: 1.3837, Validation Accuracy: 57.28%\n",
            "\n",
            "Epoch 15/27\n",
            "Training Average Loss: 0.9925\n",
            "Validation Loss: 1.3731, Validation Accuracy: 57.04%\n",
            "\n",
            "Epoch 16/27\n",
            "Training Average Loss: 0.9813\n",
            "Validation Loss: 1.1659, Validation Accuracy: 60.78%\n",
            "\n",
            "Epoch 17/27\n",
            "Training Average Loss: 0.9762\n",
            "Validation Loss: 1.1612, Validation Accuracy: 62.74%\n",
            "\n",
            "Epoch 18/27\n",
            "Training Average Loss: 0.9668\n",
            "Validation Loss: 1.2016, Validation Accuracy: 63.20%\n",
            "\n",
            "Epoch 19/27\n",
            "Training Average Loss: 0.9588\n",
            "Validation Loss: 1.4182, Validation Accuracy: 56.54%\n",
            "\n",
            "Epoch 20/27\n",
            "Training Average Loss: 0.9477\n",
            "Validation Loss: 1.2600, Validation Accuracy: 60.30%\n",
            "\n",
            "Epoch 21/27\n",
            "Training Average Loss: 0.9168\n",
            "Validation Loss: 1.1777, Validation Accuracy: 62.26%\n",
            "\n",
            "Epoch 22/27\n",
            "Training Average Loss: 0.9088\n",
            "Validation Loss: 1.2190, Validation Accuracy: 62.54%\n",
            "\n",
            "Epoch 23/27\n",
            "Training Average Loss: 0.9023\n",
            "Validation Loss: 1.3908, Validation Accuracy: 59.18%\n",
            "\n",
            "Epoch 24/27\n",
            "Training Average Loss: 0.8977\n",
            "Validation Loss: 1.1410, Validation Accuracy: 62.52%\n",
            "\n",
            "Epoch 25/27\n",
            "Training Average Loss: 0.8973\n",
            "Validation Loss: 1.3895, Validation Accuracy: 59.22%\n",
            "\n",
            "Epoch 26/27\n",
            "Training Average Loss: 0.8855\n",
            "Validation Loss: 1.0455, Validation Accuracy: 64.98%\n",
            "\n",
            "Epoch 27/27\n",
            "Training Average Loss: 0.8826\n",
            "Validation Loss: 1.1328, Validation Accuracy: 64.12%\n"
          ]
        }
      ]
    },
    {
      "cell_type": "code",
      "source": [
        "test(test_loader, model, loss_function)"
      ],
      "metadata": {
        "id": "dtXgSnErO909",
        "colab": {
          "base_uri": "https://localhost:8080/"
        },
        "outputId": "e37cd488-61d7-4b4a-c57c-dea9d557c91a"
      },
      "execution_count": 92,
      "outputs": [
        {
          "output_type": "stream",
          "name": "stdout",
          "text": [
            "Test Loss: 1.1328, Test Accuracy: 64.12%\n"
          ]
        }
      ]
    },
    {
      "cell_type": "markdown",
      "source": [
        "<h1>Learning</h1>\n",
        "\n",
        "**Key Point:** <br>\n",
        "The code applies data augmentation transformations—such as random cropping, flipping, rotation, and color jitter—to the entire dataset (`train_data`) before splitting it into training and validation sets. As a result, the validation set also receives these augmentations, which makes validation metrics unrepresentative of actual test set performance.\n",
        "\n",
        "**Result:**\n",
        "Since the validation set contains augmented data, it may be “easier” or at least different from the real, un-augmented test data. This can lead to inflated validation accuracy. When the model is then evaluated on the true test set, which lacks such augmentations, performance may drop significantly.\n",
        "\n",
        "**Solution:**\n",
        "To address this, augmentations should be applied **only** to the training subset. The validation and test datasets should not be augmented; instead, they should only be normalized. This can be done by defining a separate `val_transform` that mirrors the `test_transform`, using only `ToTensor()` and `Normalize()`.\n",
        "\n",
        "\n",
        "<h1>Feature map outputs </h1>\n",
        "\n",
        "Layer, Output Shape <br>\n",
        "Input\t(Batch, 3, 32, 32) <br>\n",
        "Conv2d(3, 32, 3, 1)\t(Batch, 32, 32, 32)<br>\n",
        "Conv2d(32, 32, 3, 1)\t(Batch, 32, 32, 32)<br>\n",
        "MaxPool2d(2)\t(Batch, 32, 16, 16)<br>\n",
        "Conv2d(32, 64, 3, 1)\t(Batch, 64, 16, 16)<br>\n",
        "Conv2d(64, 64, 3, 1)\t(Batch, 64, 16, 16)<br>\n",
        "MaxPool2d(2)\t(Batch, 64, 8, 8)<br>\n",
        "Conv2d(64, 128, 3, 1)\t(Batch, 128, 8, 8)<br>\n",
        "MaxPool2d(2)\t(Batch, 128, 4, 4)<br>\n",
        "Flatten\t(Batch, 2048)<br>\n",
        "Linear(2048, 256)\t(Batch, 256)<br>\n",
        "Linear(256, 10)\t(Batch, 10)<br>\n"
      ],
      "metadata": {
        "id": "hqfuuwhOkdfp"
      }
    },
    {
      "cell_type": "code",
      "source": [],
      "metadata": {
        "id": "eqZw_Y2rlAue"
      },
      "execution_count": 92,
      "outputs": []
    }
  ]
}