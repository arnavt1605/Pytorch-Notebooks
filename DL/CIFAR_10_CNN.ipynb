{
  "nbformat": 4,
  "nbformat_minor": 0,
  "metadata": {
    "colab": {
      "provenance": [],
      "gpuType": "T4",
      "authorship_tag": "ABX9TyO3sfFZf/VcjnJQRneku0tN"
    },
    "kernelspec": {
      "name": "python3",
      "display_name": "Python 3"
    },
    "language_info": {
      "name": "python"
    },
    "accelerator": "GPU"
  },
  "cells": [
    {
      "cell_type": "code",
      "execution_count": 45,
      "metadata": {
        "id": "jOKnI8MT4cVU"
      },
      "outputs": [],
      "source": [
        "import torch\n",
        "import torch.nn as nn\n",
        "import torch.optim\n",
        "import torchvision\n",
        "from torchvision.datasets import CIFAR10\n",
        "from torchvision import transforms\n",
        "from torch.utils.data import DataLoader\n",
        "from torch.utils.data import random_split\n",
        "import matplotlib.pyplot as plt\n",
        "\n",
        "device= torch.device(\"cuda\" if torch.cuda.is_available() else \"cpu\")"
      ]
    },
    {
      "cell_type": "markdown",
      "source": [
        "<h2>Finding out the mean and std dev of the training dataset</h2>"
      ],
      "metadata": {
        "id": "aPVAmoPWEgip"
      }
    },
    {
      "cell_type": "code",
      "source": [
        "# dataset= CIFAR10(root=\"data\", train= True, download=True, transform= transforms.ToTensor())\n",
        "# loader= DataLoader(dataset, batch_size= 50000, shuffle= True)\n",
        "\n",
        "# data= next(iter(loader))[0]\n",
        "# mean= data.mean(dim=[0, 2, 3])\n",
        "# std= data.std(dim=[0, 2, 3])\n",
        "\n",
        "# mean= tuple(mean.tolist())\n",
        "# std= tuple(std.tolist())\n",
        "\n",
        "# print(\"Mean: \", mean)\n",
        "# print(\"Standard Deviation: \", std)\n",
        "mean = (0.4914, 0.4822, 0.4465)\n",
        "std = (0.2023, 0.1994, 0.2010)\n",
        "\n",
        "print(\"Mean: \", mean)\n",
        "print(\"Standard Deviation: \", std)\n"
      ],
      "metadata": {
        "colab": {
          "base_uri": "https://localhost:8080/"
        },
        "id": "46mjbZArEZZS",
        "outputId": "acb9d8ef-a0d7-4561-aa2a-577520ada560"
      },
      "execution_count": 46,
      "outputs": [
        {
          "output_type": "stream",
          "name": "stdout",
          "text": [
            "Mean:  (0.4914, 0.4822, 0.4465)\n",
            "Standard Deviation:  (0.2023, 0.1994, 0.201)\n"
          ]
        }
      ]
    },
    {
      "cell_type": "code",
      "source": [
        "#next(iter(loader))[0].shape"
      ],
      "metadata": {
        "id": "i7s-7GaYE1mb"
      },
      "execution_count": 47,
      "outputs": []
    },
    {
      "cell_type": "markdown",
      "source": [
        "<h2>Further Steps</h2>"
      ],
      "metadata": {
        "id": "3XDQXChaHOLh"
      }
    },
    {
      "cell_type": "code",
      "source": [
        "train_transform= transforms.Compose([\n",
        "    transforms.RandomCrop(32, padding= 4),\n",
        "    transforms.RandomHorizontalFlip(),\n",
        "    transforms.RandomRotation(15),\n",
        "    transforms.ColorJitter(0.2, 0.2, 0.2),\n",
        "    transforms.ToTensor(),      # This must come after the augmentations\n",
        "    transforms.Normalize(mean, std)\n",
        "])\n",
        "\n",
        "# Added this later after bad test loss and accuracy\n",
        "val_transform = transforms.Compose([\n",
        "    transforms.ToTensor(),\n",
        "    transforms.Normalize(mean, std)\n",
        "])\n",
        "\n",
        "test_transform= transforms.Compose([\n",
        "    transforms.ToTensor(),\n",
        "    transforms.Normalize(mean, std)\n",
        "])"
      ],
      "metadata": {
        "id": "tn3TSymEF_bT"
      },
      "execution_count": 48,
      "outputs": []
    },
    {
      "cell_type": "code",
      "source": [
        "# For the splits to apply individul tranforms\n",
        "base_train = CIFAR10(root=\"data\", train=True, download=True, transform=train_transform)\n",
        "base_val = CIFAR10(root=\"data\", train=True, download=True, transform=val_transform)\n",
        "\n",
        "torch.manual_seed(0)\n",
        "\n",
        "train_set, _ = torch.utils.data.random_split(base_train, [45000, 5000])\n",
        "_, val_set = torch.utils.data.random_split(base_val, [45000, 5000])\n",
        "\n",
        "\n",
        "test_set = CIFAR10(root=\"data\", train=False, download=True, transform=test_transform)\n",
        "\n",
        "train_loader = DataLoader(train_set, batch_size=128, shuffle=True)\n",
        "val_loader = DataLoader(val_set, batch_size=128, shuffle = False)\n",
        "test_loader = DataLoader(test_set, batch_size=128, shuffle = False)"
      ],
      "metadata": {
        "id": "LUpcbVs-JPPP"
      },
      "execution_count": 49,
      "outputs": []
    },
    {
      "cell_type": "code",
      "source": [
        "len(train_set), len(val_set), len(test_set)"
      ],
      "metadata": {
        "colab": {
          "base_uri": "https://localhost:8080/"
        },
        "id": "5ncW-RkrhUwV",
        "outputId": "5d219327-4ab1-4eff-8aea-0690915c8f8e"
      },
      "execution_count": 50,
      "outputs": [
        {
          "output_type": "execute_result",
          "data": {
            "text/plain": [
              "(45000, 5000, 10000)"
            ]
          },
          "metadata": {},
          "execution_count": 50
        }
      ]
    },
    {
      "cell_type": "code",
      "source": [
        "class CNN(nn.Module):\n",
        "  def __init__(self):\n",
        "    super().__init__()\n",
        "# Input size of images is 32x32\n",
        "\n",
        "    self.stack= nn.Sequential(\n",
        "        nn.Conv2d(3, 32, 3, padding=1),\n",
        "        nn.BatchNorm2d(32),\n",
        "        nn.ReLU(),\n",
        "        nn.Conv2d(32, 32, 3, padding=1),\n",
        "        nn.BatchNorm2d(32),\n",
        "        nn.ReLU(),\n",
        "        nn.MaxPool2d(2),\n",
        "\n",
        "\n",
        "        # Block 2\n",
        "        nn.Conv2d(32, 64, 3, padding=1),\n",
        "        nn.BatchNorm2d(64),\n",
        "        nn.ReLU(),\n",
        "        nn.Conv2d(64, 64, 3, padding=1),\n",
        "        nn.BatchNorm2d(64),\n",
        "        nn.ReLU(),\n",
        "        nn.MaxPool2d(2),\n",
        "\n",
        "\n",
        "        # Block 3\n",
        "        nn.Conv2d(64, 128, 3, padding=1),\n",
        "        nn.BatchNorm2d(128),\n",
        "        nn.ReLU(),\n",
        "        nn.Conv2d(128, 128, 3, padding=1),\n",
        "        nn.BatchNorm2d(128),\n",
        "        nn.ReLU(),\n",
        "        nn.MaxPool2d(2),\n",
        "\n",
        "\n",
        "    )\n",
        "\n",
        "    self.classifier= nn.Sequential(\n",
        "        nn.Flatten(),\n",
        "        nn.Linear(128*4*4, 256),\n",
        "        nn.ReLU(),\n",
        "        nn.Dropout(0.2),\n",
        "        nn.Linear(256, 10) #Final 10 outputs\n",
        "    )\n",
        "\n",
        "  def forward(self, x):\n",
        "    x= self.stack(x)\n",
        "    x= self.classifier(x)\n",
        "    return x"
      ],
      "metadata": {
        "id": "TI8AGyBzJwqC"
      },
      "execution_count": 51,
      "outputs": []
    },
    {
      "cell_type": "code",
      "source": [
        "model= CNN().to(device)"
      ],
      "metadata": {
        "id": "S9h-Ucp1N_Zw"
      },
      "execution_count": 52,
      "outputs": []
    },
    {
      "cell_type": "code",
      "source": [
        "loss_function= nn.CrossEntropyLoss()"
      ],
      "metadata": {
        "id": "nOSIJ1s0OHi9"
      },
      "execution_count": 53,
      "outputs": []
    },
    {
      "cell_type": "code",
      "source": [
        "optimizer = torch.optim.Adam(model.parameters(), lr=0.001)\n",
        "\n",
        "scheduler = torch.optim.lr_scheduler.ReduceLROnPlateau(optimizer, mode='max', factor=0.5, patience=3)"
      ],
      "metadata": {
        "id": "hk9_s6TBONp0"
      },
      "execution_count": 54,
      "outputs": []
    },
    {
      "cell_type": "code",
      "source": [
        "def train(dataloader, model, loss_function, optimizer):\n",
        "  model.train()\n",
        "  total_loss= 0\n",
        "\n",
        "  for batch, (image, label) in enumerate(dataloader):\n",
        "    image= image.to(device)\n",
        "    label= label.to(device)\n",
        "\n",
        "    prediction= model(image)\n",
        "    loss= loss_function(prediction, label)\n",
        "\n",
        "    loss.backward()\n",
        "    optimizer.step()\n",
        "    optimizer.zero_grad()\n",
        "\n",
        "    total_loss+= loss\n",
        "\n",
        "  avg_loss= total_loss / len(dataloader)\n",
        "  print(f\"Training Average Loss: {avg_loss:.4f}\")"
      ],
      "metadata": {
        "id": "EmYf3WtZOqZt"
      },
      "execution_count": 55,
      "outputs": []
    },
    {
      "cell_type": "code",
      "source": [
        "def validate(dataloader, model, loss_function):\n",
        "  model.eval()\n",
        "  total_loss= 0\n",
        "  correct= 0\n",
        "  total= 0\n",
        "  with torch.no_grad():\n",
        "    for image, label in dataloader:\n",
        "      image= image.to(device)\n",
        "      label= label.to(device)\n",
        "\n",
        "      pred = model(image)\n",
        "      loss= loss_function(pred, label)\n",
        "      total_loss+= loss\n",
        "\n",
        "      predicted_classes = pred.argmax(dim=1)\n",
        "      correct+= (predicted_classes == label).sum().item()\n",
        "      total+= label.size(0)\n",
        "\n",
        "  avg_loss= total_loss / len(dataloader)\n",
        "  accuracy= correct/total * 100\n",
        "  print(f\"Validation Loss: {avg_loss:.4f}, Validation Accuracy: {accuracy:.2f}%\")\n",
        "\n",
        "  return accuracy"
      ],
      "metadata": {
        "id": "FazvXfvvO1OR"
      },
      "execution_count": 56,
      "outputs": []
    },
    {
      "cell_type": "code",
      "source": [
        "def test(dataloader, model, loss_function):\n",
        "    model.eval()\n",
        "    total_loss = 0\n",
        "    correct = 0\n",
        "    total = 0\n",
        "\n",
        "    with torch.no_grad():\n",
        "        for image, label in dataloader:\n",
        "            image= image.to(device)\n",
        "            label= label.to(device)\n",
        "\n",
        "            preds = model(image)\n",
        "            loss = loss_function(preds, label)\n",
        "            total_loss += loss.item()\n",
        "\n",
        "            predicted_classes = preds.argmax(dim=1)\n",
        "            correct += (predicted_classes == label).sum().item()\n",
        "            total += label.size(0)\n",
        "\n",
        "    avg_loss = total_loss / len(dataloader)\n",
        "    accuracy = correct / total * 100\n",
        "    print(f\"Test Loss: {avg_loss:.4f}, Test Accuracy: {accuracy:.2f}%\")"
      ],
      "metadata": {
        "id": "qNiGDIVAO3XM"
      },
      "execution_count": 57,
      "outputs": []
    },
    {
      "cell_type": "code",
      "source": [
        "epochs = 25\n",
        "for epoch in range(epochs):\n",
        "    print(f\"\\nEpoch {epoch+1}/{epochs}\")\n",
        "    train(train_loader, model, loss_function, optimizer)\n",
        "    val_acc = validate(val_loader, model, loss_function)\n",
        "    scheduler.step(val_acc)"
      ],
      "metadata": {
        "colab": {
          "base_uri": "https://localhost:8080/"
        },
        "id": "DGs2Bv8MO5Xk",
        "outputId": "ef58a6c5-a6aa-4f4a-afd2-cc7be9ee8932"
      },
      "execution_count": 58,
      "outputs": [
        {
          "output_type": "stream",
          "name": "stdout",
          "text": [
            "\n",
            "Epoch 1/25\n",
            "Training Average Loss: 1.5975\n",
            "Validation Loss: 1.3060, Validation Accuracy: 52.30%\n",
            "\n",
            "Epoch 2/25\n",
            "Training Average Loss: 1.1874\n",
            "Validation Loss: 0.9947, Validation Accuracy: 63.68%\n",
            "\n",
            "Epoch 3/25\n",
            "Training Average Loss: 1.0150\n",
            "Validation Loss: 0.8151, Validation Accuracy: 70.94%\n",
            "\n",
            "Epoch 4/25\n",
            "Training Average Loss: 0.9160\n",
            "Validation Loss: 0.8482, Validation Accuracy: 70.56%\n",
            "\n",
            "Epoch 5/25\n",
            "Training Average Loss: 0.8437\n",
            "Validation Loss: 0.7386, Validation Accuracy: 73.22%\n",
            "\n",
            "Epoch 6/25\n",
            "Training Average Loss: 0.7920\n",
            "Validation Loss: 0.7456, Validation Accuracy: 74.10%\n",
            "\n",
            "Epoch 7/25\n",
            "Training Average Loss: 0.7519\n",
            "Validation Loss: 0.5985, Validation Accuracy: 79.88%\n",
            "\n",
            "Epoch 8/25\n",
            "Training Average Loss: 0.7075\n",
            "Validation Loss: 0.5740, Validation Accuracy: 80.56%\n",
            "\n",
            "Epoch 9/25\n",
            "Training Average Loss: 0.6787\n",
            "Validation Loss: 0.5863, Validation Accuracy: 79.48%\n",
            "\n",
            "Epoch 10/25\n",
            "Training Average Loss: 0.6531\n",
            "Validation Loss: 0.5133, Validation Accuracy: 82.72%\n",
            "\n",
            "Epoch 11/25\n",
            "Training Average Loss: 0.6238\n",
            "Validation Loss: 0.4915, Validation Accuracy: 83.18%\n",
            "\n",
            "Epoch 12/25\n",
            "Training Average Loss: 0.6049\n",
            "Validation Loss: 0.4563, Validation Accuracy: 84.66%\n",
            "\n",
            "Epoch 13/25\n",
            "Training Average Loss: 0.5876\n",
            "Validation Loss: 0.4631, Validation Accuracy: 84.84%\n",
            "\n",
            "Epoch 14/25\n",
            "Training Average Loss: 0.5710\n",
            "Validation Loss: 0.4251, Validation Accuracy: 85.22%\n",
            "\n",
            "Epoch 15/25\n",
            "Training Average Loss: 0.5570\n",
            "Validation Loss: 0.4390, Validation Accuracy: 85.46%\n",
            "\n",
            "Epoch 16/25\n",
            "Training Average Loss: 0.5400\n",
            "Validation Loss: 0.4280, Validation Accuracy: 85.26%\n",
            "\n",
            "Epoch 17/25\n",
            "Training Average Loss: 0.5258\n",
            "Validation Loss: 0.4294, Validation Accuracy: 85.74%\n",
            "\n",
            "Epoch 18/25\n",
            "Training Average Loss: 0.5131\n",
            "Validation Loss: 0.3920, Validation Accuracy: 87.08%\n",
            "\n",
            "Epoch 19/25\n",
            "Training Average Loss: 0.5032\n",
            "Validation Loss: 0.3643, Validation Accuracy: 87.78%\n",
            "\n",
            "Epoch 20/25\n",
            "Training Average Loss: 0.4924\n",
            "Validation Loss: 0.3374, Validation Accuracy: 89.22%\n",
            "\n",
            "Epoch 21/25\n",
            "Training Average Loss: 0.4779\n",
            "Validation Loss: 0.3605, Validation Accuracy: 87.72%\n",
            "\n",
            "Epoch 22/25\n",
            "Training Average Loss: 0.4705\n",
            "Validation Loss: 0.3371, Validation Accuracy: 88.66%\n",
            "\n",
            "Epoch 23/25\n",
            "Training Average Loss: 0.4602\n",
            "Validation Loss: 0.3207, Validation Accuracy: 89.40%\n",
            "\n",
            "Epoch 24/25\n",
            "Training Average Loss: 0.4541\n",
            "Validation Loss: 0.3256, Validation Accuracy: 89.34%\n",
            "\n",
            "Epoch 25/25\n",
            "Training Average Loss: 0.4439\n",
            "Validation Loss: 0.3551, Validation Accuracy: 88.22%\n"
          ]
        }
      ]
    },
    {
      "cell_type": "code",
      "source": [
        "test(test_loader, model, loss_function)"
      ],
      "metadata": {
        "id": "dtXgSnErO909",
        "colab": {
          "base_uri": "https://localhost:8080/"
        },
        "outputId": "e43b622e-3947-4dc7-f93f-69c285fddf50"
      },
      "execution_count": 59,
      "outputs": [
        {
          "output_type": "stream",
          "name": "stdout",
          "text": [
            "Test Loss: 0.4732, Test Accuracy: 84.39%\n"
          ]
        }
      ]
    },
    {
      "cell_type": "markdown",
      "source": [
        "<h1>Learning</h1>\n",
        "\n",
        "**Key Point:** <br>\n",
        "The code applies data augmentation transformations—such as random cropping, flipping, rotation, and color jitter—to the entire dataset (`train_data`) before splitting it into training and validation sets. As a result, the validation set also receives these augmentations, which makes validation metrics unrepresentative of actual test set performance.\n",
        "\n",
        "**Result:**\n",
        "Since the validation set contains augmented data, it may be “easier” or at least different from the real, un-augmented test data. This can lead to inflated validation accuracy. When the model is then evaluated on the true test set, which lacks such augmentations, performance may drop significantly.\n",
        "\n",
        "**Solution:**\n",
        "To address this, augmentations should be applied **only** to the training subset. The validation and test datasets should not be augmented; instead, they should only be normalized. This can be done by defining a separate `val_transform` that mirrors the `test_transform`, using only `ToTensor()` and `Normalize()`.\n",
        "\n",
        "**<h2>Important</h2>**\n",
        "\n",
        " `ToTensor()` must come after the augmentations that operate on PIL Images. `ColorJitter`, `RandomCrop`, `RandomHorizontalFlip`, and `RandomRotation` work on PIL, not Tensors."
      ],
      "metadata": {
        "id": "hqfuuwhOkdfp"
      }
    }
  ]
}