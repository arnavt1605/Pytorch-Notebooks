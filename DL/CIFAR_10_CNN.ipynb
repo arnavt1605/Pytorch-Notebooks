{
  "nbformat": 4,
  "nbformat_minor": 0,
  "metadata": {
    "colab": {
      "provenance": [],
      "gpuType": "T4",
      "authorship_tag": "ABX9TyMXa8Qhcn2mGYdgphsjHmV1"
    },
    "kernelspec": {
      "name": "python3",
      "display_name": "Python 3"
    },
    "language_info": {
      "name": "python"
    },
    "accelerator": "GPU"
  },
  "cells": [
    {
      "cell_type": "code",
      "execution_count": 16,
      "metadata": {
        "id": "jOKnI8MT4cVU"
      },
      "outputs": [],
      "source": [
        "import torch\n",
        "import torch.nn as nn\n",
        "import torch.optim\n",
        "import torchvision\n",
        "from torchvision.datasets import CIFAR10\n",
        "from torchvision import transforms\n",
        "from torch.utils.data import DataLoader\n",
        "from torch.utils.data import random_split\n",
        "import matplotlib.pyplot as plt\n",
        "\n",
        "device= torch.device(\"cuda\" if torch.cuda.is_available() else \"cpu\")"
      ]
    },
    {
      "cell_type": "markdown",
      "source": [
        "<h2>Finding out the mean and std dev of the training dataset</h2>"
      ],
      "metadata": {
        "id": "aPVAmoPWEgip"
      }
    },
    {
      "cell_type": "code",
      "source": [
        "# dataset= CIFAR10(root=\"data\", train= True, download=True, transform= transforms.ToTensor())\n",
        "# loader= DataLoader(dataset, batch_size= 50000, shuffle= True)\n",
        "\n",
        "# data= next(iter(loader))[0]\n",
        "# mean= data.mean(dim=[0, 2, 3])\n",
        "# std= data.std(dim=[0, 2, 3])\n",
        "\n",
        "# mean= tuple(mean.tolist())\n",
        "# std= tuple(std.tolist())\n",
        "\n",
        "# print(\"Mean: \", mean)\n",
        "# print(\"Standard Deviation: \", std)\n",
        "mean = (0.4914, 0.4822, 0.4465)\n",
        "std = (0.2023, 0.1994, 0.2010)\n",
        "\n",
        "print(\"Mean: \", mean)\n",
        "print(\"Standard Deviation: \", std)\n"
      ],
      "metadata": {
        "colab": {
          "base_uri": "https://localhost:8080/"
        },
        "id": "46mjbZArEZZS",
        "outputId": "bd07659f-43a7-4a19-8372-e73c5c4bc7ac"
      },
      "execution_count": 17,
      "outputs": [
        {
          "output_type": "stream",
          "name": "stdout",
          "text": [
            "Mean:  (0.4914, 0.4822, 0.4465)\n",
            "Standard Deviation:  (0.2023, 0.1994, 0.201)\n"
          ]
        }
      ]
    },
    {
      "cell_type": "code",
      "source": [
        "#next(iter(loader))[0].shape"
      ],
      "metadata": {
        "id": "i7s-7GaYE1mb"
      },
      "execution_count": 18,
      "outputs": []
    },
    {
      "cell_type": "markdown",
      "source": [
        "<h2>Further Steps</h2>"
      ],
      "metadata": {
        "id": "3XDQXChaHOLh"
      }
    },
    {
      "cell_type": "code",
      "source": [
        "train_transform= transforms.Compose([\n",
        "    transforms.ToTensor(),\n",
        "    transforms.RandomCrop(32, padding= 4),\n",
        "    transforms.RandomHorizontalFlip(),\n",
        "    transforms.RandomRotation(15),\n",
        "    transforms.Normalize(mean, std),\n",
        "    transforms.ColorJitter(0.2, 0.2, 0.2)\n",
        "])\n",
        "\n",
        "# Added this later after bad test loss and accuracy\n",
        "val_transform = transforms.Compose([\n",
        "    transforms.ToTensor(),\n",
        "    transforms.Normalize(mean, std)\n",
        "])\n",
        "\n",
        "test_transform= transforms.Compose([\n",
        "    transforms.ToTensor(),\n",
        "    transforms.Normalize(mean, std)\n",
        "])"
      ],
      "metadata": {
        "id": "tn3TSymEF_bT"
      },
      "execution_count": 19,
      "outputs": []
    },
    {
      "cell_type": "code",
      "source": [
        "# For the splits to apply individul tranforms\n",
        "base_train = CIFAR10(root=\"data\", train=True, download=True, transform=train_transform)\n",
        "base_val = CIFAR10(root=\"data\", train=True, download=True, transform=val_transform)\n",
        "\n",
        "torch.manual_seed(0)\n",
        "\n",
        "train_set, _ = torch.utils.data.random_split(base_train, [45000, 5000])\n",
        "_, val_set = torch.utils.data.random_split(base_val, [45000, 5000])\n",
        "\n",
        "\n",
        "test_set = CIFAR10(root=\"data\", train=False, download=True, transform=test_transform)\n",
        "\n",
        "train_loader = DataLoader(train_set, batch_size=128, shuffle=True)\n",
        "val_loader = DataLoader(val_set, batch_size=128, shuffle = False)\n",
        "test_loader = DataLoader(val_set, batch_size=128, shuffle = False)"
      ],
      "metadata": {
        "id": "LUpcbVs-JPPP"
      },
      "execution_count": 20,
      "outputs": []
    },
    {
      "cell_type": "code",
      "source": [
        "len(train_set), len(val_set), len(test_set)"
      ],
      "metadata": {
        "colab": {
          "base_uri": "https://localhost:8080/"
        },
        "id": "5ncW-RkrhUwV",
        "outputId": "60ec38ba-66b6-4eb6-df5e-b63d180ff992"
      },
      "execution_count": 21,
      "outputs": [
        {
          "output_type": "execute_result",
          "data": {
            "text/plain": [
              "(45000, 5000, 10000)"
            ]
          },
          "metadata": {},
          "execution_count": 21
        }
      ]
    },
    {
      "cell_type": "code",
      "source": [
        "class CNN(nn.Module):\n",
        "  def __init__(self):\n",
        "    super().__init__()\n",
        "# Input size of images is 32x32\n",
        "\n",
        "    self.stack= nn.Sequential(\n",
        "        nn.Conv2d(3, 32, 3, padding=1),\n",
        "        nn.BatchNorm2d(32),\n",
        "        nn.ReLU(),\n",
        "        nn.Conv2d(32, 32, 3, padding=1),\n",
        "        nn.BatchNorm2d(32),\n",
        "        nn.ReLU(),\n",
        "        nn.MaxPool2d(2),\n",
        "        nn.Dropout(0.2),\n",
        "\n",
        "        # Block 2\n",
        "        nn.Conv2d(32, 64, 3, padding=1),\n",
        "        nn.BatchNorm2d(64),\n",
        "        nn.ReLU(),\n",
        "        nn.Conv2d(64, 64, 3, padding=1),\n",
        "        nn.BatchNorm2d(64),\n",
        "        nn.ReLU(),\n",
        "        nn.MaxPool2d(2),\n",
        "        nn.Dropout(0.2),\n",
        "\n",
        "        # Block 3\n",
        "        nn.Conv2d(64, 128, 3, padding=1),\n",
        "        nn.BatchNorm2d(128),\n",
        "        nn.ReLU(),\n",
        "        nn.Conv2d(128, 128, 3, padding=1),\n",
        "        nn.BatchNorm2d(128),\n",
        "        nn.ReLU(),\n",
        "        nn.MaxPool2d(2),\n",
        "        nn.Dropout(0.2),\n",
        "\n",
        "    )\n",
        "\n",
        "    self.classifier= nn.Sequential(\n",
        "        nn.Flatten(),\n",
        "        nn.Linear(128*4*4, 256),\n",
        "        nn.ReLU(),\n",
        "        nn.Dropout(0.2),\n",
        "        nn.Linear(256, 10) #Final 10 outputs\n",
        "    )\n",
        "\n",
        "  def forward(self, x):\n",
        "    x= self.stack(x)\n",
        "    x= self.classifier(x)\n",
        "    return x"
      ],
      "metadata": {
        "id": "TI8AGyBzJwqC"
      },
      "execution_count": 22,
      "outputs": []
    },
    {
      "cell_type": "code",
      "source": [
        "model= CNN().to(device)"
      ],
      "metadata": {
        "id": "S9h-Ucp1N_Zw"
      },
      "execution_count": 23,
      "outputs": []
    },
    {
      "cell_type": "code",
      "source": [
        "loss_function= nn.CrossEntropyLoss()"
      ],
      "metadata": {
        "id": "nOSIJ1s0OHi9"
      },
      "execution_count": 24,
      "outputs": []
    },
    {
      "cell_type": "code",
      "source": [
        "optimizer = torch.optim.Adam(model.parameters(), lr=0.001)\n",
        "\n",
        "scheduler = torch.optim.lr_scheduler.ReduceLROnPlateau(optimizer, mode='max', factor=0.5, patience=2)"
      ],
      "metadata": {
        "id": "hk9_s6TBONp0"
      },
      "execution_count": 25,
      "outputs": []
    },
    {
      "cell_type": "code",
      "source": [
        "def train(dataloader, model, loss_function, optimizer):\n",
        "  model.train()\n",
        "  total_loss= 0\n",
        "\n",
        "  for batch, (image, label) in enumerate(dataloader):\n",
        "    image= image.to(device)\n",
        "    label= label.to(device)\n",
        "\n",
        "    prediction= model(image)\n",
        "    loss= loss_function(prediction, label)\n",
        "\n",
        "    loss.backward()\n",
        "    optimizer.step()\n",
        "    optimizer.zero_grad()\n",
        "\n",
        "    total_loss+= loss\n",
        "\n",
        "  avg_loss= total_loss / len(dataloader)\n",
        "  print(f\"Training Average Loss: {avg_loss:.4f}\")"
      ],
      "metadata": {
        "id": "EmYf3WtZOqZt"
      },
      "execution_count": 26,
      "outputs": []
    },
    {
      "cell_type": "code",
      "source": [
        "def validate(dataloader, model, loss_function):\n",
        "  model.eval()\n",
        "  total_loss= 0\n",
        "  correct= 0\n",
        "  total= 0\n",
        "  with torch.no_grad():\n",
        "    for image, label in dataloader:\n",
        "      image= image.to(device)\n",
        "      label= label.to(device)\n",
        "\n",
        "      pred = model(image)\n",
        "      loss= loss_function(pred, label)\n",
        "      total_loss+= loss\n",
        "\n",
        "      predicted_classes = pred.argmax(dim=1)\n",
        "      correct+= (predicted_classes == label).sum().item()\n",
        "      total+= label.size(0)\n",
        "\n",
        "  avg_loss= total_loss / len(dataloader)\n",
        "  accuracy= correct/total * 100\n",
        "  print(f\"Validation Loss: {avg_loss:.4f}, Validation Accuracy: {accuracy:.2f}%\")\n",
        "\n",
        "  return accuracy"
      ],
      "metadata": {
        "id": "FazvXfvvO1OR"
      },
      "execution_count": 27,
      "outputs": []
    },
    {
      "cell_type": "code",
      "source": [
        "def test(dataloader, model, loss_function):\n",
        "    model.eval()\n",
        "    total_loss = 0\n",
        "    correct = 0\n",
        "    total = 0\n",
        "\n",
        "    with torch.no_grad():\n",
        "        for image, label in dataloader:\n",
        "            image= image.to(device)\n",
        "            label= label.to(device)\n",
        "\n",
        "            preds = model(image)\n",
        "            loss = loss_function(preds, label)\n",
        "            total_loss += loss.item()\n",
        "\n",
        "            predicted_classes = preds.argmax(dim=1)\n",
        "            correct += (predicted_classes == label).sum().item()\n",
        "            total += label.size(0)\n",
        "\n",
        "    avg_loss = total_loss / len(dataloader)\n",
        "    accuracy = correct / total * 100\n",
        "    print(f\"Test Loss: {avg_loss:.4f}, Test Accuracy: {accuracy:.2f}%\")"
      ],
      "metadata": {
        "id": "qNiGDIVAO3XM"
      },
      "execution_count": 28,
      "outputs": []
    },
    {
      "cell_type": "code",
      "source": [
        "epochs = 26\n",
        "for epoch in range(epochs):\n",
        "    print(f\"\\nEpoch {epoch+1}/{epochs}\")\n",
        "    train(train_loader, model, loss_function, optimizer)\n",
        "    val_acc = validate(val_loader, model, loss_function)\n",
        "    scheduler.step(val_acc)"
      ],
      "metadata": {
        "colab": {
          "base_uri": "https://localhost:8080/"
        },
        "id": "DGs2Bv8MO5Xk",
        "outputId": "df5e90c6-4bd1-40f7-b181-3e5bcb6fde47"
      },
      "execution_count": 29,
      "outputs": [
        {
          "output_type": "stream",
          "name": "stdout",
          "text": [
            "\n",
            "Epoch 1/26\n",
            "Training Average Loss: 1.7975\n",
            "Validation Loss: 2.6168, Validation Accuracy: 33.54%\n",
            "\n",
            "Epoch 2/26\n",
            "Training Average Loss: 1.5203\n",
            "Validation Loss: 1.5983, Validation Accuracy: 44.80%\n",
            "\n",
            "Epoch 3/26\n",
            "Training Average Loss: 1.4144\n",
            "Validation Loss: 2.4782, Validation Accuracy: 40.38%\n",
            "\n",
            "Epoch 4/26\n",
            "Training Average Loss: 1.3406\n",
            "Validation Loss: 2.2604, Validation Accuracy: 37.72%\n",
            "\n",
            "Epoch 5/26\n",
            "Training Average Loss: 1.2841\n",
            "Validation Loss: 2.0485, Validation Accuracy: 45.62%\n",
            "\n",
            "Epoch 6/26\n",
            "Training Average Loss: 1.2434\n",
            "Validation Loss: 2.0763, Validation Accuracy: 46.68%\n",
            "\n",
            "Epoch 7/26\n",
            "Training Average Loss: 1.2042\n",
            "Validation Loss: 1.5079, Validation Accuracy: 54.80%\n",
            "\n",
            "Epoch 8/26\n",
            "Training Average Loss: 1.1620\n",
            "Validation Loss: 1.3227, Validation Accuracy: 58.02%\n",
            "\n",
            "Epoch 9/26\n",
            "Training Average Loss: 1.1409\n",
            "Validation Loss: 1.5506, Validation Accuracy: 55.04%\n",
            "\n",
            "Epoch 10/26\n",
            "Training Average Loss: 1.1152\n",
            "Validation Loss: 1.8196, Validation Accuracy: 52.20%\n",
            "\n",
            "Epoch 11/26\n",
            "Training Average Loss: 1.0942\n",
            "Validation Loss: 1.5121, Validation Accuracy: 55.42%\n",
            "\n",
            "Epoch 12/26\n",
            "Training Average Loss: 1.0263\n",
            "Validation Loss: 1.2569, Validation Accuracy: 60.02%\n",
            "\n",
            "Epoch 13/26\n",
            "Training Average Loss: 1.0153\n",
            "Validation Loss: 1.2428, Validation Accuracy: 60.48%\n",
            "\n",
            "Epoch 14/26\n",
            "Training Average Loss: 0.9971\n",
            "Validation Loss: 1.4306, Validation Accuracy: 57.66%\n",
            "\n",
            "Epoch 15/26\n",
            "Training Average Loss: 0.9877\n",
            "Validation Loss: 1.2157, Validation Accuracy: 61.90%\n",
            "\n",
            "Epoch 16/26\n",
            "Training Average Loss: 0.9747\n",
            "Validation Loss: 1.3126, Validation Accuracy: 60.58%\n",
            "\n",
            "Epoch 17/26\n",
            "Training Average Loss: 0.9738\n",
            "Validation Loss: 1.2022, Validation Accuracy: 61.74%\n",
            "\n",
            "Epoch 18/26\n",
            "Training Average Loss: 0.9620\n",
            "Validation Loss: 1.2152, Validation Accuracy: 63.18%\n",
            "\n",
            "Epoch 19/26\n",
            "Training Average Loss: 0.9571\n",
            "Validation Loss: 1.5139, Validation Accuracy: 56.86%\n",
            "\n",
            "Epoch 20/26\n",
            "Training Average Loss: 0.9435\n",
            "Validation Loss: 1.4320, Validation Accuracy: 58.70%\n",
            "\n",
            "Epoch 21/26\n",
            "Training Average Loss: 0.9353\n",
            "Validation Loss: 1.3310, Validation Accuracy: 59.78%\n",
            "\n",
            "Epoch 22/26\n",
            "Training Average Loss: 0.9093\n",
            "Validation Loss: 1.5500, Validation Accuracy: 58.98%\n",
            "\n",
            "Epoch 23/26\n",
            "Training Average Loss: 0.8937\n",
            "Validation Loss: 1.6990, Validation Accuracy: 55.24%\n",
            "\n",
            "Epoch 24/26\n",
            "Training Average Loss: 0.8941\n",
            "Validation Loss: 1.7228, Validation Accuracy: 54.52%\n",
            "\n",
            "Epoch 25/26\n",
            "Training Average Loss: 0.8807\n",
            "Validation Loss: 1.6289, Validation Accuracy: 56.68%\n",
            "\n",
            "Epoch 26/26\n",
            "Training Average Loss: 0.8684\n",
            "Validation Loss: 1.3807, Validation Accuracy: 60.10%\n"
          ]
        }
      ]
    },
    {
      "cell_type": "code",
      "source": [
        "test(test_loader, model, loss_function)"
      ],
      "metadata": {
        "id": "dtXgSnErO909",
        "colab": {
          "base_uri": "https://localhost:8080/"
        },
        "outputId": "1b99a9ff-756e-4790-97a1-b80d05a278a9"
      },
      "execution_count": 30,
      "outputs": [
        {
          "output_type": "stream",
          "name": "stdout",
          "text": [
            "Test Loss: 1.3807, Test Accuracy: 60.10%\n"
          ]
        }
      ]
    },
    {
      "cell_type": "markdown",
      "source": [
        "<h1>Learning</h1>\n",
        "\n",
        "**Key Point:** <br>\n",
        "The code applies data augmentation transformations—such as random cropping, flipping, rotation, and color jitter—to the entire dataset (`train_data`) before splitting it into training and validation sets. As a result, the validation set also receives these augmentations, which makes validation metrics unrepresentative of actual test set performance.\n",
        "\n",
        "**Result:**\n",
        "Since the validation set contains augmented data, it may be “easier” or at least different from the real, un-augmented test data. This can lead to inflated validation accuracy. When the model is then evaluated on the true test set, which lacks such augmentations, performance may drop significantly.\n",
        "\n",
        "**Solution:**\n",
        "To address this, augmentations should be applied **only** to the training subset. The validation and test datasets should not be augmented; instead, they should only be normalized. This can be done by defining a separate `val_transform` that mirrors the `test_transform`, using only `ToTensor()` and `Normalize()`.\n",
        "\n",
        "\n",
        "<h1>Feature map outputs </h1>\n",
        "\n",
        "Layer, Output Shape <br>\n",
        "Input\t(Batch, 3, 32, 32) <br>\n",
        "Conv2d(3, 32, 3, 1)\t(Batch, 32, 32, 32)<br>\n",
        "Conv2d(32, 32, 3, 1)\t(Batch, 32, 32, 32)<br>\n",
        "MaxPool2d(2)\t(Batch, 32, 16, 16)<br>\n",
        "Conv2d(32, 64, 3, 1)\t(Batch, 64, 16, 16)<br>\n",
        "Conv2d(64, 64, 3, 1)\t(Batch, 64, 16, 16)<br>\n",
        "MaxPool2d(2)\t(Batch, 64, 8, 8)<br>\n",
        "Conv2d(64, 128, 3, 1)\t(Batch, 128, 8, 8)<br>\n",
        "MaxPool2d(2)\t(Batch, 128, 4, 4)<br>\n",
        "Flatten\t(Batch, 2048)<br>\n",
        "Linear(2048, 256)\t(Batch, 256)<br>\n",
        "Linear(256, 10)\t(Batch, 10)<br>\n"
      ],
      "metadata": {
        "id": "hqfuuwhOkdfp"
      }
    },
    {
      "cell_type": "code",
      "source": [],
      "metadata": {
        "id": "eqZw_Y2rlAue"
      },
      "execution_count": 30,
      "outputs": []
    }
  ]
}