{
  "nbformat": 4,
  "nbformat_minor": 0,
  "metadata": {
    "colab": {
      "provenance": [],
      "gpuType": "T4",
      "authorship_tag": "ABX9TyPKW72ummg+qsYkz7BT9Ws0",
      "include_colab_link": true
    },
    "kernelspec": {
      "name": "python3",
      "display_name": "Python 3"
    },
    "language_info": {
      "name": "python"
    },
    "accelerator": "GPU"
  },
  "cells": [
    {
      "cell_type": "markdown",
      "metadata": {
        "id": "view-in-github",
        "colab_type": "text"
      },
      "source": [
        "<a href=\"https://colab.research.google.com/github/arnavt1605/Projects/blob/main/DL/MNIST_ConvNN.ipynb\" target=\"_parent\"><img src=\"https://colab.research.google.com/assets/colab-badge.svg\" alt=\"Open In Colab\"/></a>"
      ]
    },
    {
      "cell_type": "code",
      "execution_count": 13,
      "metadata": {
        "id": "ZhpJCYWLUdRX"
      },
      "outputs": [],
      "source": [
        "import torch\n",
        "import torch.nn as nn\n",
        "import torch.optim\n",
        "import torchvision\n",
        "from torchvision.transforms import ToTensor\n",
        "from torchvision.datasets import MNIST\n",
        "from torch.utils.data import DataLoader\n",
        "from torch.utils.data import random_split\n",
        "import matplotlib.pyplot as plt\n",
        "\n",
        "device = torch.device(\"cuda\" if torch.cuda.is_available() else \"cpu\")"
      ]
    },
    {
      "cell_type": "code",
      "source": [
        "torch.manual_seed(0)\n",
        "\n",
        "train_data, val_data = torch.utils.data.random_split(MNIST(root = 'data', train= True, download= True, transform= ToTensor()), [50000, 10000])\n",
        "test_data = MNIST(root= \"data\", train= False, download=True, transform= ToTensor())"
      ],
      "metadata": {
        "id": "zuMbVc_sYiFX"
      },
      "execution_count": 14,
      "outputs": []
    },
    {
      "cell_type": "code",
      "source": [
        "train_dataloader= DataLoader(train_data, shuffle= True, batch_size= 64)\n",
        "val_dataloader= DataLoader(val_data, shuffle= False, batch_size= 64)\n",
        "test_dataloader= DataLoader(test_data, shuffle=False, batch_size= 64)"
      ],
      "metadata": {
        "id": "mMr3o7pva_oD"
      },
      "execution_count": 15,
      "outputs": []
    },
    {
      "cell_type": "code",
      "source": [
        "\n",
        "class CNN(nn.Module):\n",
        "    def __init__(self):\n",
        "        super().__init__()\n",
        "        self.conv_stack = nn.Sequential(\n",
        "            nn.Conv2d(1, 32, kernel_size=3, padding=1),\n",
        "            nn.ReLU(),\n",
        "            nn.MaxPool2d(2),\n",
        "\n",
        "            nn.Conv2d(32, 64, kernel_size=3, padding=1),\n",
        "            nn.ReLU(),\n",
        "            nn.MaxPool2d(2)\n",
        "        )\n",
        "        self.classifier = nn.Sequential(\n",
        "            nn.Flatten(),\n",
        "            nn.Linear(64 * 7 * 7, 128),\n",
        "            nn.ReLU(),\n",
        "            nn.Dropout(0.3),\n",
        "            nn.Linear(128, 10)\n",
        "        )\n",
        "\n",
        "    def forward(self, x):\n",
        "        x = self.conv_stack(x)\n",
        "        logits = self.classifier(x)\n",
        "        return logits\n"
      ],
      "metadata": {
        "id": "iP9cPaZzb1KF"
      },
      "execution_count": 16,
      "outputs": []
    },
    {
      "cell_type": "code",
      "source": [
        "for images, labels in train_dataloader:\n",
        "    print(images.shape)\n",
        "    break\n"
      ],
      "metadata": {
        "colab": {
          "base_uri": "https://localhost:8080/"
        },
        "id": "ZBhJhxXxdD3E",
        "outputId": "a098996c-898f-43f0-9b04-b982c4fb6c0c"
      },
      "execution_count": 17,
      "outputs": [
        {
          "output_type": "stream",
          "name": "stdout",
          "text": [
            "torch.Size([64, 1, 28, 28])\n"
          ]
        }
      ]
    },
    {
      "cell_type": "code",
      "source": [
        "model= CNN().to(device)"
      ],
      "metadata": {
        "id": "Nj2GgPFodIf9"
      },
      "execution_count": 18,
      "outputs": []
    },
    {
      "cell_type": "code",
      "source": [
        "loss_function = nn.CrossEntropyLoss()"
      ],
      "metadata": {
        "id": "ex4CVrzodNNI"
      },
      "execution_count": 19,
      "outputs": []
    },
    {
      "cell_type": "code",
      "source": [
        "optimizer = torch.optim.Adam(model.parameters(), lr= 0.001)"
      ],
      "metadata": {
        "id": "wyMJaGVxdSXm"
      },
      "execution_count": 20,
      "outputs": []
    },
    {
      "cell_type": "code",
      "source": [
        "def train(dataloader, model, loss_function, optimizer):\n",
        "  model.train()\n",
        "  total_loss= 0\n",
        "\n",
        "  for batch, (image, label) in enumerate(dataloader):\n",
        "    image= image.to(device)\n",
        "    label= label.to(device)\n",
        "\n",
        "    prediction= model(image)\n",
        "    loss= loss_function(prediction, label)\n",
        "\n",
        "    loss.backward()\n",
        "    optimizer.step()\n",
        "    optimizer.zero_grad()\n",
        "\n",
        "    total_loss+= loss\n",
        "\n",
        "  avg_loss= total_loss / len(dataloader)\n",
        "  print(f\"Training Average Loss: {avg_loss:.4f}\")"
      ],
      "metadata": {
        "id": "ApTlFk_OdUW8"
      },
      "execution_count": 21,
      "outputs": []
    },
    {
      "cell_type": "code",
      "source": [
        "def validate(dataloader, model, loss_function):\n",
        "  model.eval()\n",
        "  total_loss= 0\n",
        "  correct= 0\n",
        "  total= 0\n",
        "  with torch.no_grad():\n",
        "    for image, label in dataloader:\n",
        "      image= image.to(device)\n",
        "      label= label.to(device)\n",
        "\n",
        "      pred = model(image)\n",
        "      loss= loss_function(pred, label)\n",
        "      total_loss+= loss\n",
        "\n",
        "      predicted_classes = pred.argmax(dim=1)\n",
        "      correct+= (predicted_classes == label).sum().item()\n",
        "      total+= label.size(0)\n",
        "\n",
        "  avg_loss= total_loss / len(dataloader)\n",
        "  accuracy= correct/total * 100\n",
        "  print(f\"Validation Loss: {avg_loss:.4f}, Validation Accuracy: {accuracy:.2f}%\")\n"
      ],
      "metadata": {
        "id": "bak7n7n2dVi8"
      },
      "execution_count": 22,
      "outputs": []
    },
    {
      "cell_type": "code",
      "source": [
        "def test(dataloader, model, loss_function):\n",
        "    model.eval()\n",
        "    total_loss = 0\n",
        "    correct = 0\n",
        "    total = 0\n",
        "\n",
        "    with torch.no_grad():\n",
        "        for image, label in dataloader:\n",
        "            image= image.to(device)\n",
        "            label= label.to(device)\n",
        "\n",
        "            preds = model(image)\n",
        "            loss = loss_function(preds, label)\n",
        "            total_loss += loss.item()\n",
        "\n",
        "            predicted_classes = preds.argmax(dim=1)\n",
        "            correct += (predicted_classes == label).sum().item()\n",
        "            total += label.size(0)\n",
        "\n",
        "    avg_loss = total_loss / len(dataloader)\n",
        "    accuracy = correct / total * 100\n",
        "    print(f\"Test Loss: {avg_loss:.4f}, Test Accuracy: {accuracy:.2f}%\")"
      ],
      "metadata": {
        "id": "sF3Qye5KdW8l"
      },
      "execution_count": 23,
      "outputs": []
    },
    {
      "cell_type": "code",
      "source": [
        "epochs= 10\n",
        "for epoch in range(epochs):\n",
        "  print(f\"Epoch {epoch+1} of {epochs}:\")\n",
        "\n",
        "  train(train_dataloader, model, loss_function, optimizer)\n",
        "  validate(val_dataloader, model, loss_function)\n",
        "\n",
        "test(test_dataloader, model, loss_function)\n"
      ],
      "metadata": {
        "colab": {
          "base_uri": "https://localhost:8080/"
        },
        "id": "3JESVuEJdYk4",
        "outputId": "724a5060-f185-4e87-c733-2cd1531b7f1a"
      },
      "execution_count": 24,
      "outputs": [
        {
          "output_type": "stream",
          "name": "stdout",
          "text": [
            "Epoch 1 of 10:\n",
            "Training Average Loss: 0.2759\n",
            "Validation Loss: 0.0810, Validation Accuracy: 97.54%\n",
            "Epoch 2 of 10:\n",
            "Training Average Loss: 0.0841\n",
            "Validation Loss: 0.0647, Validation Accuracy: 98.06%\n",
            "Epoch 3 of 10:\n",
            "Training Average Loss: 0.0609\n",
            "Validation Loss: 0.0424, Validation Accuracy: 98.85%\n",
            "Epoch 4 of 10:\n",
            "Training Average Loss: 0.0484\n",
            "Validation Loss: 0.0425, Validation Accuracy: 98.69%\n",
            "Epoch 5 of 10:\n",
            "Training Average Loss: 0.0404\n",
            "Validation Loss: 0.0379, Validation Accuracy: 98.85%\n",
            "Epoch 6 of 10:\n",
            "Training Average Loss: 0.0346\n",
            "Validation Loss: 0.0385, Validation Accuracy: 98.89%\n",
            "Epoch 7 of 10:\n",
            "Training Average Loss: 0.0294\n",
            "Validation Loss: 0.0344, Validation Accuracy: 99.02%\n",
            "Epoch 8 of 10:\n",
            "Training Average Loss: 0.0259\n",
            "Validation Loss: 0.0368, Validation Accuracy: 98.95%\n",
            "Epoch 9 of 10:\n",
            "Training Average Loss: 0.0223\n",
            "Validation Loss: 0.0380, Validation Accuracy: 98.91%\n",
            "Epoch 10 of 10:\n",
            "Training Average Loss: 0.0194\n",
            "Validation Loss: 0.0319, Validation Accuracy: 99.15%\n",
            "Test Loss: 0.0251, Test Accuracy: 99.22%\n"
          ]
        }
      ]
    }
  ]
}